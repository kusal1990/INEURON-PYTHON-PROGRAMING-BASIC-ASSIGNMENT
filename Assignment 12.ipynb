{
 "cells": [
  {
   "cell_type": "markdown",
   "metadata": {},
   "source": [
    "## 1. Write a Python program to Extract Unique values dictionary values?"
   ]
  },
  {
   "cell_type": "code",
   "execution_count": 2,
   "metadata": {},
   "outputs": [
    {
     "data": {
      "text/plain": [
       "dict_values(['kusal', 30, 'kolkata', [1, 2, 3, 4]])"
      ]
     },
     "execution_count": 2,
     "metadata": {},
     "output_type": "execute_result"
    }
   ],
   "source": [
    "my_dict={'name':'kusal','age':30,'city':'kolkata','lst':[1,2,3,4]}\n",
    "my_dict.values()"
   ]
  },
  {
   "cell_type": "markdown",
   "metadata": {},
   "source": [
    "## 2. Write a Python program to find the sum of all items in a dictionary?"
   ]
  },
  {
   "cell_type": "code",
   "execution_count": 3,
   "metadata": {},
   "outputs": [
    {
     "name": "stdout",
     "output_type": "stream",
     "text": [
      "Sum : 1568\n"
     ]
    }
   ],
   "source": [
    "def returnSum(my_dict):\n",
    "    \"\"\" return the sum of all items in a dictionary\"\"\"\n",
    "      \n",
    "    sum = 0\n",
    "    for i in my_dict:\n",
    "        sum = sum + my_dict[i]\n",
    "      \n",
    "    return sum\n",
    "  \n",
    "\n",
    "my_dict1 = {'a': 100, 'b':200, 'c':300,'d':67,'e':901}\n",
    "print(\"Sum :\", returnSum(my_dict1))"
   ]
  },
  {
   "cell_type": "markdown",
   "metadata": {},
   "source": [
    "## 3. Write a Python program to Merging two Dictionaries?"
   ]
  },
  {
   "cell_type": "code",
   "execution_count": 9,
   "metadata": {},
   "outputs": [
    {
     "name": "stdout",
     "output_type": "stream",
     "text": [
      "{'name': 'kusal', 'age': 30, 'city': 'kolkata', 'lst': [1, 2, 3, 4], 'a': 100, 'b': 200, 'c': 300, 'd': 67, 'e': 901}\n"
     ]
    }
   ],
   "source": [
    "dict1 = {'a': 100, 'b':200, 'c':300,'d':67,'e':901}\n",
    "dict2= {'name':'kusal','age':30,'city':'kolkata','lst':[1,2,3,4]}\n",
    "\n",
    "dict2.update(dict1)\n",
    "print(dict2)"
   ]
  },
  {
   "cell_type": "markdown",
   "metadata": {},
   "source": [
    "## 4. Write a Python program to convert key-values list to flat dictionary?"
   ]
  },
  {
   "cell_type": "code",
   "execution_count": 2,
   "metadata": {},
   "outputs": [
    {
     "name": "stdout",
     "output_type": "stream",
     "text": [
      "{'a': 14, 'b': 5, 'c': 56, 'f': 25}\n"
     ]
    }
   ],
   "source": [
    "key=['a','b','c','f']\n",
    "value=[14,5,56,25]\n",
    "my_dict=dict(zip(key,value))\n",
    "print(my_dict)"
   ]
  },
  {
   "cell_type": "markdown",
   "metadata": {},
   "source": [
    "## 5. Write a Python program to insertion at the beginning in OrderedDict"
   ]
  },
  {
   "cell_type": "code",
   "execution_count": 21,
   "metadata": {},
   "outputs": [
    {
     "name": "stdout",
     "output_type": "stream",
     "text": [
      "NEW Dictionary : OrderedDict([('a', '1'), ('b', '2'), ('c', '3')])\n"
     ]
    }
   ],
   "source": [
    "from collections import OrderedDict\n",
    "  \n",
    "# initialising ordered_dict\n",
    "my_dict5 = OrderedDict([ ('b', '2'),('c','3')])\n",
    "  \n",
    "# inserting items in starting of dict \n",
    "my_dict5.update({'a': '1'})\n",
    "my_dict5.move_to_end('a', last = False)\n",
    "\n",
    "\n",
    "# print result\n",
    "print (\"NEW Dictionary : \"+str(my_dict5))"
   ]
  },
  {
   "cell_type": "markdown",
   "metadata": {},
   "source": [
    "## 6. Write a Python program to check order of character in string using OrderedDict()?"
   ]
  },
  {
   "cell_type": "code",
   "execution_count": 26,
   "metadata": {},
   "outputs": [
    {
     "name": "stdout",
     "output_type": "stream",
     "text": [
      "The input string is: My name is KUSAL\n",
      "The input pattern is: am\n",
      "The order of pattern is correct\n"
     ]
    }
   ],
   "source": [
    "from collections import OrderedDict\n",
    "\n",
    "def check_order(string,pattern):\n",
    "    my_dict6 = OrderedDict.fromkeys(string)\n",
    "    pattern_length = 0\n",
    "    for key,value in my_dict6.items():\n",
    "        if (key == pattern[pattern_length]):\n",
    "            pattern_length = pattern_length + 1\n",
    "\n",
    "        if (pattern_length == (len(pattern))):\n",
    "            return 'The order of pattern is correct'\n",
    "\n",
    "    return 'The order of pattern is incorrect'\n",
    "\n",
    "string=input(\"The input string is: \")\n",
    "pattern=input(\"The input pattern is: \")\n",
    "\n",
    "print(check_order(string,pattern))"
   ]
  },
  {
   "cell_type": "markdown",
   "metadata": {},
   "source": [
    "## 7. Write a Python program to sort Python Dictionaries by Key or Value?"
   ]
  },
  {
   "cell_type": "code",
   "execution_count": 23,
   "metadata": {},
   "outputs": [
    {
     "name": "stdout",
     "output_type": "stream",
     "text": [
      "OrderedDict([('a', '9'), ('b', '32'), ('c', '2'), ('f', '10'), ('h', '15')])\n"
     ]
    }
   ],
   "source": [
    "from collections import OrderedDict\n",
    " \n",
    "my_dict7 = {'f':'10','a':'9','h':'15','c':'2','b':'32'}\n",
    "my_dict8= OrderedDict(sorted(my_dict7.items()))\n",
    "print(my_dict8)"
   ]
  },
  {
   "cell_type": "code",
   "execution_count": null,
   "metadata": {},
   "outputs": [],
   "source": []
  }
 ],
 "metadata": {
  "kernelspec": {
   "display_name": "Python 3",
   "language": "python",
   "name": "python3"
  },
  "language_info": {
   "codemirror_mode": {
    "name": "ipython",
    "version": 3
   },
   "file_extension": ".py",
   "mimetype": "text/x-python",
   "name": "python",
   "nbconvert_exporter": "python",
   "pygments_lexer": "ipython3",
   "version": "3.7.1"
  }
 },
 "nbformat": 4,
 "nbformat_minor": 2
}
