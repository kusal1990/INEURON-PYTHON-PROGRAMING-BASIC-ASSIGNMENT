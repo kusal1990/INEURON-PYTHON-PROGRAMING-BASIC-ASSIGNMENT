{
 "cells": [
  {
   "cell_type": "markdown",
   "metadata": {},
   "source": [
    "## Question1. Create a function that takes three arguments a, b, c and returns the sum of the numbers that are evenly divided by c from the range a, b inclusive.\n",
    "\n",
    "Examples\n",
    "\n",
    "evenly_divisible(1, 10, 20) ➞ 0\n",
    "\n",
    "No number between 1 and 10 can be evenly divided by 20.\n",
    "\n",
    "evenly_divisible(1, 10, 2) ➞ 30\n",
    "\n",
    "2 + 4 + 6 + 8 + 10 = 30\n",
    "\n",
    "evenly_divisible(1, 10, 3) ➞ 18\n",
    "\n",
    "3 + 6 + 9 = 18\n",
    "\n",
    "\n",
    "\n",
    "\n",
    "\n"
   ]
  },
  {
   "cell_type": "code",
   "execution_count": 1,
   "metadata": {},
   "outputs": [
    {
     "name": "stdout",
     "output_type": "stream",
     "text": [
      "evenly_divisible(1,10,3) ➞ 18 \n"
     ]
    }
   ],
   "source": [
    "def evenly_divisible(a,b,c):\n",
    "    sum=0\n",
    "    for i in range(a,b+1):\n",
    "        if i%c==0:\n",
    "            sum+=i\n",
    "    return sum\n",
    "a,b,c=1, 10, 3\n",
    "out=evenly_divisible(a,b,c)\n",
    "print(\"evenly_divisible({},{},{}) ➞ {} \".format(a,b,c,out))\n"
   ]
  },
  {
   "cell_type": "markdown",
   "metadata": {},
   "source": [
    "## Question2. Create a function that returns True if a given inequality expression is correct and False otherwise.\n",
    "\n",
    "Examples\n",
    "\n",
    "correct_signs(&quot;3 &lt; 7 &lt; 11&quot;) ➞ True\n",
    "\n",
    "correct_signs(&quot;13 &gt; 44 &gt; 33 &gt; 1&quot;) ➞ False\n",
    "\n",
    "correct_signs(&quot;1 &lt; 2 &lt; 6 &lt; 9 &gt; 3&quot;) ➞ True"
   ]
  },
  {
   "cell_type": "code",
   "execution_count": 6,
   "metadata": {},
   "outputs": [
    {
     "name": "stdout",
     "output_type": "stream",
     "text": [
      "Enter a string: 3 < 7 < 11,13 > 44 > 33 > 1,1 < 2 < 6 < 9 > 3\n",
      "\n",
      "correct_signs(3 < 7 < 11) ➞ True\n",
      "\n",
      "correct_signs(13 > 44 > 33 > 1) ➞ False\n",
      "\n",
      "correct_signs(1 < 2 < 6 < 9 > 3) ➞ True\n"
     ]
    }
   ],
   "source": [
    "def correct_signs(string):\n",
    "    string=eval(string)\n",
    "    if string:\n",
    "        return True\n",
    "    else:\n",
    "        return False \n",
    "\n",
    "s1,s2,s3=input(\"Enter a string: \").split(\",\")\n",
    "out1,out2,out3=correct_signs(s1),correct_signs(s2),correct_signs(s3)\n",
    "print(\"\\ncorrect_signs({}) ➞ {}\".format(s1,out1),\"\\ncorrect_signs({}) ➞ {}\".format(s2,out2),\n",
    "      \"\\ncorrect_signs({}) ➞ {}\".format(s3,out3),sep=\"\\n\")\n",
    "\n",
    " "
   ]
  },
  {
   "cell_type": "markdown",
   "metadata": {},
   "source": [
    "## Question3. Create a function that replaces all the vowels in a string with a specified character.\n",
    "\n",
    "Examples\n",
    "\n",
    "replace_vowels(&quot;the aardvark&quot;, &quot;#&quot;) ➞ &quot;th# ##rdv#rk&quot;\n",
    "\n",
    "replace_vowels(&quot;minnie mouse&quot;, &quot;?&quot;) ➞ &quot;m?nn?? m??s?&quot;\n",
    "\n",
    "replace_vowels(&quot;shakespeare&quot;, &quot;*&quot;) ➞ &quot;sh * k * sp * * r * &quot;"
   ]
  },
  {
   "cell_type": "code",
   "execution_count": 7,
   "metadata": {},
   "outputs": [
    {
     "name": "stdout",
     "output_type": "stream",
     "text": [
      "Enter the string: the aardvark\n",
      "Enter the character: #\n",
      "replace_vowels(the aardvark, #)➞ th# ##rdv#rk\n"
     ]
    }
   ],
   "source": [
    "def replace_vowels(string,char):\n",
    "    vowels=\"AEIOUaeiou\"\n",
    "    for i in vowels:\n",
    "        string=string.replace(i,char)\n",
    "    return string\n",
    "string=input(\"Enter the string: \")\n",
    "char=input(\"Enter the character: \")\n",
    "out=replace_vowels(string,char)\n",
    "print(\"replace_vowels({}, {})➞ {}\".format(string,char, out))\n",
    "        \n",
    "    "
   ]
  },
  {
   "cell_type": "markdown",
   "metadata": {},
   "source": [
    "## Question4. Write a function that calculates the factorial of a number recursively.\n",
    "\n",
    "Examples\n",
    "\n",
    "factorial(5) ➞ 120\n",
    "\n",
    "factorial(3) ➞ 6\n",
    "\n",
    "factorial(1) ➞ 1\n",
    "\n",
    "factorial(0) ➞ 1"
   ]
  },
  {
   "cell_type": "code",
   "execution_count": 11,
   "metadata": {},
   "outputs": [
    {
     "name": "stdout",
     "output_type": "stream",
     "text": [
      "Enter an integer: 5,3,1,0\n",
      "Factorial (5) ➞  120 \n",
      "Factorial (3) ➞  6 \n",
      "Factorial (1) ➞  1 \n",
      "Factorial (0) ➞  0 \n"
     ]
    }
   ],
   "source": [
    "def factorial(n):\n",
    "    \"\"\"\" Factorial of any integer\"\"\"\n",
    "    return n if int(n)== 1 or int(n)==0  else int(n)*factorial(int(n)-1)\n",
    "n=input(\"Enter an integer: \").split(\",\")\n",
    "for i in n:\n",
    "    print(\"Factorial ({}) ➞  {} \".format(i,factorial(i)))"
   ]
  },
  {
   "cell_type": "markdown",
   "metadata": {},
   "source": [
    "## Question 5\n",
    "\n",
    "Hamming distance is the number of characters that differ between two strings.\n",
    "To illustrate:\n",
    "\n",
    "String1: &quot;abcbba&quot;\n",
    "\n",
    "String2: &quot;abcbda&quot;\n",
    "\n",
    "Hamming Distance: 1 - &quot;b&quot; vs. &quot;d&quot; is the only difference.\n",
    "\n",
    "Create a function that computes the hamming distance between two strings.\n",
    "\n",
    "Examples\n",
    "hamming_distance(&quot;abcde&quot;, &quot;bcdef&quot;) ➞ 5\n",
    "\n",
    "hamming_distance(&quot;abcde&quot;, &quot;abcde&quot;) ➞ 0\n",
    "\n",
    "hamming_distance(&quot;strong&quot;, &quot;strung&quot;) ➞ 1"
   ]
  },
  {
   "cell_type": "code",
   "execution_count": 13,
   "metadata": {},
   "outputs": [
    {
     "name": "stdout",
     "output_type": "stream",
     "text": [
      "abcde\n",
      "bcdef\n",
      "hamming_distance(abcde,bcdef)➞ 5\n"
     ]
    }
   ],
   "source": [
    "def hamming_distance(s1, s2): \n",
    "    dist = 0\n",
    "    for i in range(len(s1)):\n",
    "        if s1[i] != s2[i]:\n",
    "            dist += 1\n",
    "    return dist\n",
    "\n",
    "s1=input()\n",
    "s2=input()\n",
    "\n",
    "out=hamming_distance(s1,s2)\n",
    "print(\"hamming_distance({},{})➞ {}\".format(s1,s2,out))"
   ]
  },
  {
   "cell_type": "code",
   "execution_count": null,
   "metadata": {},
   "outputs": [],
   "source": []
  }
 ],
 "metadata": {
  "kernelspec": {
   "display_name": "Python 3",
   "language": "python",
   "name": "python3"
  },
  "language_info": {
   "codemirror_mode": {
    "name": "ipython",
    "version": 3
   },
   "file_extension": ".py",
   "mimetype": "text/x-python",
   "name": "python",
   "nbconvert_exporter": "python",
   "pygments_lexer": "ipython3",
   "version": "3.7.1"
  }
 },
 "nbformat": 4,
 "nbformat_minor": 2
}
