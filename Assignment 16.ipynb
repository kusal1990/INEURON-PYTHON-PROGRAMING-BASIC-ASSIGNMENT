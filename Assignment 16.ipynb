{
 "cells": [
  {
   "cell_type": "markdown",
   "metadata": {},
   "source": [
    "### Question1. Write a function that stutters a word as if someone is struggling to read it. Thefirst two letters are repeated twice with an ellipsis ... and space after each, and then the word is pronounced with a question mark ?.\n",
    "Examples\n",
    "\n",
    "stutter(&quot;incredible&quot;) ➞ &quot;in... in... incredible?&quot;\n",
    "\n",
    "stutter(&quot;enthusiastic&quot;) ➞ &quot;en... en... enthusiastic?&quot;\n",
    "\n",
    "stutter(&quot;outstanding&quot;) ➞ &quot;ou... ou... outstanding?&quot;\n",
    "\n",
    "Hint :- Assume all input is in lower case and at least two characters long.\"\"\" "
   ]
  },
  {
   "cell_type": "code",
   "execution_count": 2,
   "metadata": {},
   "outputs": [
    {
     "name": "stdout",
     "output_type": "stream",
     "text": [
      "Enter a string: incredible,enthusiastic,outstanding\n",
      "\n",
      "stutter(incredible) ➞ in...in...incredible?\n",
      "\n",
      "stutter(enthusiastic) ➞ en...en...enthusiastic?\n",
      "\n",
      "stutter(outstanding) ➞ ou...ou...outstanding?\n"
     ]
    }
   ],
   "source": [
    "def pronouncing(string):\n",
    "    if len(string)>=2:\n",
    "        return (\"{}{}...{}{}...{}?\".format(string[0],string[1],string[0],string[1],string))\n",
    "    return\n",
    "s1,s2,s3=input(\"Enter a string: \").split(\",\")\n",
    "out1,out2,out3=pronouncing(s1),pronouncing(s2),pronouncing(s3)\n",
    "print(\"\\nstutter({}) ➞ {}\".format(s1,out1),\"\\nstutter({}) ➞ {}\".format(s2,out2),\"\\nstutter({}) ➞ {}\".format(s3,out3),sep=\"\\n\")"
   ]
  },
  {
   "cell_type": "markdown",
   "metadata": {},
   "source": [
    "### Question 2.Create a function that takes an angle in radians and returns the correspondingangle in degrees rounded to one decimal place.\n",
    "\n",
    "### Examples\n",
    "radians_to_degrees(1) ➞ 57.3\n",
    "\n",
    "radians_to_degrees(20) ➞ 1145.9\n",
    "\n",
    "radians_to_degrees(50) ➞ 2864.8"
   ]
  },
  {
   "cell_type": "code",
   "execution_count": 4,
   "metadata": {},
   "outputs": [
    {
     "name": "stdout",
     "output_type": "stream",
     "text": [
      "Enter radian: 1\n",
      "radians_to_degrees(1)➞ 57.3\n"
     ]
    }
   ],
   "source": [
    "import math\n",
    "def radians_to_degrees(rad):\n",
    "    degrees=round(rad*(180/math.pi),1)\n",
    "        \n",
    "    return degrees\n",
    "\n",
    "rad=int(input(\"Enter radian: \"))\n",
    "out=radians_to_degrees(rad)\n",
    "print(\"radians_to_degrees({})➞ {}\".format(rad,out))"
   ]
  },
  {
   "cell_type": "markdown",
   "metadata": {},
   "source": [
    "### Question 3. In this challenge, establish if a given integer num is a Curzon number. If 1 plus 2 elevated to num is exactly divisible by 1 plus 2 multiplied by num, then num is a Curzon number.Given a non-negative integer num, implement a function that returns True if num is a Curzon number, or False otherwise.\n",
    "\n",
    "Examples\n",
    "\n",
    "is_curzon(5) ➞ True\n",
    "\n",
    "2 ** 5 + 1 = 33\n",
    "\n",
    "2 * 5 + 1 = 11\n",
    "\n",
    "33 is a multiple of 11\n",
    "\n",
    "is_curzon(10) ➞ False\n",
    "\n",
    "2 ** 10 + 1 = 1025\n",
    "\n",
    "2 * 10 + 1 = 21\n",
    "\n",
    "1025 is not a multiple of 21\n",
    "\n",
    "is_curzon(14) ➞ True\n",
    "\n",
    "2 ** 14 + 1 = 16385\n",
    "\n",
    "2 * 14 + 1 = 29\n",
    "\n",
    "16385 is a multiple of 29"
   ]
  },
  {
   "cell_type": "code",
   "execution_count": 5,
   "metadata": {},
   "outputs": [
    {
     "name": "stdout",
     "output_type": "stream",
     "text": [
      "Enter a integer: 14\n",
      "is_curzon(14) ➞ True\n"
     ]
    }
   ],
   "source": [
    "def is_curzon(num):\n",
    "    squ=2**num+1\n",
    "    mul=2*num+1\n",
    "    if squ%mul==0:\n",
    "        return True\n",
    "    else:\n",
    "        return False\n",
    "        \n",
    "num=int(input(\"Enter a integer: \"))\n",
    "out=is_curzon(num)\n",
    "print(\"is_curzon({}) ➞ {}\".format(num,out))\n",
    "        "
   ]
  },
  {
   "cell_type": "markdown",
   "metadata": {},
   "source": [
    "## Question 4.Given the side length x find the area of a hexagon.\n",
    "\n",
    "A=(3*sqrt(3)*(s**2))/2\n"
   ]
  },
  {
   "cell_type": "code",
   "execution_count": 6,
   "metadata": {},
   "outputs": [
    {
     "name": "stdout",
     "output_type": "stream",
     "text": [
      "Lenth of a side of hexagon: 2\n",
      "area_of_hexagon(2.0):  10.392304845413264\n"
     ]
    }
   ],
   "source": [
    "import math\n",
    "def area_of_a_hexagon(s):\n",
    "    area=0\n",
    "    if s>0:\n",
    "        area+=3*math.sqrt(3)*(s**2)/2\n",
    "    return area\n",
    "\n",
    "s=float(input(\"Lenth of a side of hexagon: \"))\n",
    "out=area_of_a_hexagon(s)\n",
    "print(\"area_of_hexagon({}): \".format(s),out)"
   ]
  },
  {
   "cell_type": "markdown",
   "metadata": {},
   "source": [
    "## Question 5. Create a function that returns a base-2 (binary) representation of a base-10(decimal) string number. To convert is simple: ((2) means base-2 and (10) means base-10) 010101001(2) = 1 + 8 + 32 + 128.\n",
    "\n",
    "## Going from right to left, the value of the most right bit is 1, now from that every bit to the left will be x2 the value, value of an 8 bit binary numbers are (256, 128, 64, 32, 16, 8, 4, 2, 1).\n",
    "\n",
    "\n",
    "Examples\n",
    "\n",
    "binary(1) ➞ &quot;1&quot;\n",
    "\n",
    "1*1 = 1\n",
    "\n",
    "binary(5) ➞ &quot;101&quot;\n",
    "\n",
    "1*1 + 1*4 = 5\n",
    "\n",
    "binary(10) ➞ &quot;1010&quot;\n",
    "\n",
    "1*2 + 1*8 = 10"
   ]
  },
  {
   "cell_type": "code",
   "execution_count": 7,
   "metadata": {},
   "outputs": [
    {
     "name": "stdout",
     "output_type": "stream",
     "text": [
      "Enter an Decimal numbers: 10\n",
      "\n",
      " Binary (10) ➞  \n",
      "1010"
     ]
    }
   ],
   "source": [
    "\n",
    "def binary(n):\n",
    "    \"\"\" covert decimal number to binary numner\"\"\"\n",
    "    num=int(n)\n",
    "    if num > 1:\n",
    "        binary(num//2)\n",
    "    print(num%2,end=\"\")\n",
    "    \n",
    "n= input(\"Enter an Decimal numbers: \")\n",
    "print(\"\\n Binary ({}) ➞  \".format(n))\n",
    "binary(n)\n"
   ]
  },
  {
   "cell_type": "code",
   "execution_count": null,
   "metadata": {},
   "outputs": [],
   "source": []
  }
 ],
 "metadata": {
  "kernelspec": {
   "display_name": "Python 3",
   "language": "python",
   "name": "python3"
  },
  "language_info": {
   "codemirror_mode": {
    "name": "ipython",
    "version": 3
   },
   "file_extension": ".py",
   "mimetype": "text/x-python",
   "name": "python",
   "nbconvert_exporter": "python",
   "pygments_lexer": "ipython3",
   "version": "3.7.1"
  }
 },
 "nbformat": 4,
 "nbformat_minor": 2
}
