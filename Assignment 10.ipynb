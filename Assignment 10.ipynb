{
 "cells": [
  {
   "cell_type": "markdown",
   "metadata": {},
   "source": [
    "## 1. Write a Python program to find sum of elements in list?"
   ]
  },
  {
   "cell_type": "code",
   "execution_count": 1,
   "metadata": {},
   "outputs": [
    {
     "name": "stdout",
     "output_type": "stream",
     "text": [
      "28\n"
     ]
    }
   ],
   "source": [
    "lst1=[1,2,3,4,5,6,7]\n",
    "sum=0\n",
    "for i in lst1:\n",
    "    sum+=i\n",
    "print(sum)"
   ]
  },
  {
   "cell_type": "markdown",
   "metadata": {},
   "source": [
    "## 2.Write a Python program to Multiply all numbers in the list?"
   ]
  },
  {
   "cell_type": "code",
   "execution_count": 2,
   "metadata": {},
   "outputs": [
    {
     "name": "stdout",
     "output_type": "stream",
     "text": [
      "5040\n"
     ]
    }
   ],
   "source": [
    "lst2=[1,2,3,4,5,6,7]\n",
    "mult=1\n",
    "for i in lst2:\n",
    "    mult*=i\n",
    "print(mult)"
   ]
  },
  {
   "cell_type": "markdown",
   "metadata": {},
   "source": [
    "## 3. Write a Python program to find smallest number in a list?"
   ]
  },
  {
   "cell_type": "code",
   "execution_count": 3,
   "metadata": {},
   "outputs": [
    {
     "name": "stdout",
     "output_type": "stream",
     "text": [
      "1\n"
     ]
    }
   ],
   "source": [
    "lst3=[1,2,3,4,5,6,7]\n",
    "print(min(lst3))"
   ]
  },
  {
   "cell_type": "markdown",
   "metadata": {},
   "source": [
    "## 4. Write a Python program to find largest number in a list?"
   ]
  },
  {
   "cell_type": "code",
   "execution_count": 4,
   "metadata": {},
   "outputs": [
    {
     "name": "stdout",
     "output_type": "stream",
     "text": [
      "7\n"
     ]
    }
   ],
   "source": [
    "lst4=[1,2,3,4,5,6,7]\n",
    "print(max(lst4))"
   ]
  },
  {
   "cell_type": "markdown",
   "metadata": {},
   "source": [
    "## 5. Write a Python program to find second largest number in a list?"
   ]
  },
  {
   "cell_type": "code",
   "execution_count": 12,
   "metadata": {},
   "outputs": [
    {
     "data": {
      "text/plain": [
       "7"
      ]
     },
     "execution_count": 12,
     "metadata": {},
     "output_type": "execute_result"
    }
   ],
   "source": [
    "lst5=[7,2,1,4,9,6,4]\n",
    "## sorting bthe list asending order\n",
    "sorted_lst5=sorted(lst5)\n",
    "## now -2th position element is the 2nd largest\n",
    "sorted_lst5[-2]\n"
   ]
  },
  {
   "cell_type": "markdown",
   "metadata": {},
   "source": [
    "## 6. Write a Python program to find N largest elements from a list?"
   ]
  },
  {
   "cell_type": "code",
   "execution_count": 26,
   "metadata": {},
   "outputs": [
    {
     "name": "stdout",
     "output_type": "stream",
     "text": [
      "Enter no of element: 5\n",
      "[98, 89, 71, 62, 61]\n"
     ]
    }
   ],
   "source": [
    "lst6=[71,1,9,2,61,98,89,15,25,45,62,36,9,6,4]\n",
    "def Nlargelements(list, N):\n",
    "    final_list = []\n",
    "  \n",
    "    for i in range(0, N): \n",
    "        max1 = 0\n",
    "          \n",
    "        for j in range(len(list)):     \n",
    "            if list[j] > max1:\n",
    "                max1 = list[j];\n",
    "                  \n",
    "        list.remove(max1);\n",
    "        final_list.append(max1)\n",
    "          \n",
    "    print(final_list)\n",
    "    \n",
    "lst6=[71,1,9,2,61,98,89,15,25,45,62,36,9,6,4]\n",
    "N=int(input(\"Enter no of element: \"))\n",
    "\n",
    "Nlargelements(lst6,N)"
   ]
  },
  {
   "cell_type": "markdown",
   "metadata": {},
   "source": [
    "## 7. Write a Python program to print even numbers in a list?"
   ]
  },
  {
   "cell_type": "code",
   "execution_count": 14,
   "metadata": {},
   "outputs": [
    {
     "name": "stdout",
     "output_type": "stream",
     "text": [
      "[2, 4, 6, 4]\n"
     ]
    }
   ],
   "source": [
    "lst7=[7,2,1,4,9,6,4]\n",
    "\n",
    "even_lst=[]\n",
    "for i in lst7:\n",
    "    if i%2 ==0:\n",
    "        even_lst.append(i)\n",
    "        \n",
    "print(even_lst)\n"
   ]
  },
  {
   "cell_type": "markdown",
   "metadata": {},
   "source": [
    "## 8. Write a Python program to print odd numbers in a list?"
   ]
  },
  {
   "cell_type": "code",
   "execution_count": 24,
   "metadata": {},
   "outputs": [
    {
     "name": "stdout",
     "output_type": "stream",
     "text": [
      "[7, 1, 9]\n"
     ]
    }
   ],
   "source": [
    "lst8=[7,2,1,4,9,6,4]\n",
    "\n",
    "odd_lst=[i for i in lst8 if i%2 !=0]\n",
    "\n",
    "print(odd_lst)\n"
   ]
  },
  {
   "cell_type": "markdown",
   "metadata": {},
   "source": [
    "## 9. Write a Python program to Remove empty List from List?"
   ]
  },
  {
   "cell_type": "code",
   "execution_count": 34,
   "metadata": {},
   "outputs": [
    {
     "name": "stdout",
     "output_type": "stream",
     "text": [
      "[[7, 2, 1, ['a', 'b', 'f', 'g'], 4, 9, [6, 84, 90], 6, 4]]\n"
     ]
    }
   ],
   "source": [
    "lst9=[7,2,[],1,[\"a\",\"b\",\"f\",\"g\"],4,9,[6,84,90],6,4]\n",
    "new_lst=[]\n",
    "for i in lst9:\n",
    "    if i==[]:\n",
    "        lst9.remove(i)\n",
    "        new_lst.append(lst9)\n",
    "\n",
    "print(new_lst)"
   ]
  },
  {
   "cell_type": "markdown",
   "metadata": {},
   "source": [
    "## 10. Write a Python program to Cloning or Copying a list?"
   ]
  },
  {
   "cell_type": "code",
   "execution_count": 23,
   "metadata": {},
   "outputs": [
    {
     "name": "stdout",
     "output_type": "stream",
     "text": [
      "[7, 2, [], 1, ['a', 'b', 'f', 'g'], 4, 9, [6, 84, 90], 6, 4]\n"
     ]
    }
   ],
   "source": [
    "lst9=[7,2,[],1,[\"a\",\"b\",\"f\",\"g\"],4,9,[6,84,90],6,4]\n",
    "copy_lst9=lst9.copy()\n",
    "print(copy_lst9)"
   ]
  },
  {
   "cell_type": "markdown",
   "metadata": {},
   "source": [
    "## 11. Write a Python program to Count occurrences of an element in a list?"
   ]
  },
  {
   "cell_type": "code",
   "execution_count": 21,
   "metadata": {},
   "outputs": [
    {
     "name": "stdout",
     "output_type": "stream",
     "text": [
      "3\n"
     ]
    }
   ],
   "source": [
    "lst11=[7,2,4,2,1,4,9,6,4]\n",
    "print(lst11.count(4))\n"
   ]
  }
 ],
 "metadata": {
  "kernelspec": {
   "display_name": "Python 3",
   "language": "python",
   "name": "python3"
  },
  "language_info": {
   "codemirror_mode": {
    "name": "ipython",
    "version": 3
   },
   "file_extension": ".py",
   "mimetype": "text/x-python",
   "name": "python",
   "nbconvert_exporter": "python",
   "pygments_lexer": "ipython3",
   "version": "3.7.1"
  }
 },
 "nbformat": 4,
 "nbformat_minor": 2
}
