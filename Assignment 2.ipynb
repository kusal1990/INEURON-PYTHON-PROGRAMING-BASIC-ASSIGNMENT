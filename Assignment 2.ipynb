{
 "cells": [
  {
   "cell_type": "markdown",
   "metadata": {},
   "source": [
    "## 1. Write a Python program to convert kilometers to miles?"
   ]
  },
  {
   "cell_type": "code",
   "execution_count": 3,
   "metadata": {},
   "outputs": [
    {
     "name": "stdout",
     "output_type": "stream",
     "text": [
      "Enter a number in kilometer: 150\n",
      "150 kilometers is equal to 93.20565 miles\n"
     ]
    }
   ],
   "source": [
    "kilometer= int(input(\"Enter a number in kilometer: \"))\n",
    "# calculate miles\n",
    "mile = kilometer*0.621371\n",
    "print('{} kilometers is equal to {} miles'.format(kilometer,mile))"
   ]
  },
  {
   "cell_type": "markdown",
   "metadata": {},
   "source": [
    "## 2. Write a Python program to convert Celsius to Fahrenheit?"
   ]
  },
  {
   "cell_type": "code",
   "execution_count": 7,
   "metadata": {},
   "outputs": [
    {
     "name": "stdout",
     "output_type": "stream",
     "text": [
      "Enter a degree in celsius: 33\n",
      "33.0 degree celsius is equal to 91.4 degree fahrenheit\n"
     ]
    }
   ],
   "source": [
    "celsius= float(input(\"Enter a degree in celsius: \"))\n",
    "# calculate miles\n",
    "fahrenheit = celsius*(9/5)+32\n",
    "print('{} degree celsius is equal to {} degree fahrenheit'.format(celsius,fahrenheit))"
   ]
  },
  {
   "cell_type": "markdown",
   "metadata": {},
   "source": [
    "## 3. Write a Python program to display calendar?"
   ]
  },
  {
   "cell_type": "code",
   "execution_count": 8,
   "metadata": {},
   "outputs": [
    {
     "name": "stdout",
     "output_type": "stream",
     "text": [
      "Enter year: 2021\n",
      "Enter month: 7\n",
      "     July 2021\n",
      "Mo Tu We Th Fr Sa Su\n",
      "          1  2  3  4\n",
      " 5  6  7  8  9 10 11\n",
      "12 13 14 15 16 17 18\n",
      "19 20 21 22 23 24 25\n",
      "26 27 28 29 30 31\n",
      "\n"
     ]
    }
   ],
   "source": [
    "# importing calendar module\n",
    "import calendar\n",
    "\n",
    "year = int(input(\"Enter year: \"))\n",
    "month= int(input(\"Enter month: \"))\n",
    "\n",
    "\n",
    "print(calendar.month(year,month))\n"
   ]
  },
  {
   "cell_type": "markdown",
   "metadata": {},
   "source": [
    "## 4. Write a Python program to solve quadratic equation?"
   ]
  },
  {
   "cell_type": "code",
   "execution_count": 21,
   "metadata": {},
   "outputs": [
    {
     "name": "stdout",
     "output_type": "stream",
     "text": [
      "Enter first number: 2\n",
      "Enter second number: 0\n",
      "Enter third number: -1\n",
      "The solution are (-0.7071067811865476+0j) and (0.7071067811865476+0j) \n"
     ]
    }
   ],
   "source": [
    "\"\"\"Formula--quadratic equation\n",
    "ax^2+bx+c=0\n",
    "a, b, c\t=\tknown numbers, where a ≠ 0\n",
    "x\t=\tthe unknown\n",
    "x=−b ± √(b2 − 4ac) 2a\"\"\"\n",
    "\n",
    "# import complex math module\n",
    "import cmath\n",
    "\n",
    "a = int(input('Enter first number: '))  \n",
    "b = int(input('Enter second number: '))  \n",
    "c = int(input('Enter third number: '))  \n",
    "\n",
    "x1=(-b-cmath.sqrt((b**2) - (4*a*c)))/(2*a)\n",
    "x2=(-b+cmath.sqrt((b**2) - (4*a*c)))/(2*a)\n",
    "\n",
    "print('The solution are {} and {} '.format(x1,x2))"
   ]
  },
  {
   "cell_type": "markdown",
   "metadata": {},
   "source": [
    "## 5. Write a Python program to swap two variables without temp variable?"
   ]
  },
  {
   "cell_type": "code",
   "execution_count": 25,
   "metadata": {},
   "outputs": [
    {
     "name": "stdout",
     "output_type": "stream",
     "text": [
      "Value of x :  kusal  and y :  10\n"
     ]
    }
   ],
   "source": [
    "x,y=10,\"kusal\"\n",
    "x, y = y, x\n",
    "\n",
    "print(\"Value of x : \", x, \" and y : \", y)"
   ]
  },
  {
   "cell_type": "code",
   "execution_count": null,
   "metadata": {},
   "outputs": [],
   "source": []
  }
 ],
 "metadata": {
  "kernelspec": {
   "display_name": "Python 3",
   "language": "python",
   "name": "python3"
  },
  "language_info": {
   "codemirror_mode": {
    "name": "ipython",
    "version": 3
   },
   "file_extension": ".py",
   "mimetype": "text/x-python",
   "name": "python",
   "nbconvert_exporter": "python",
   "pygments_lexer": "ipython3",
   "version": "3.7.1"
  }
 },
 "nbformat": 4,
 "nbformat_minor": 2
}
