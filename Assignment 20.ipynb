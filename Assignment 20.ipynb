{
 "cells": [
  {
   "cell_type": "markdown",
   "metadata": {},
   "source": [
    "## Question1 Create a function that takes a list of strings and integers, and filters out the list so that it returns a list of integers only.\n",
    "\n",
    "Examples\n",
    "\n",
    "filter_list([1, 2, 3, &quot;a&quot;, &quot;b&quot;, 4]) ➞ [1, 2, 3, 4]\n",
    "\n",
    "filter_list([&quot;A&quot;, 0, &quot;Edabit&quot;, 1729, &quot;Python&quot;, &quot;1729&quot;]) ➞ [0, 1729]\n",
    "\n",
    "filter_list([&quot;Nothing&quot;, &quot;here&quot;]) ➞ []"
   ]
  },
  {
   "cell_type": "code",
   "execution_count": 25,
   "metadata": {},
   "outputs": [
    {
     "name": "stdout",
     "output_type": "stream",
     "text": [
      "\n",
      "filter_list([1, 2, 3, 'a', 'b', 4]) ➞ [1, 2, 3, 4]\n",
      "\n",
      "filter_list(['A', 0, 'Edabit', 1729, 'Python', '1729']) ➞ [0, 1729]\n",
      "\n",
      "filter_list(['Nothing', 'here']) ➞ []\n"
     ]
    }
   ],
   "source": [
    "def filter_list(lst):\n",
    "    return [i for i in lst if type(i)==int]\n",
    "   \n",
    "\n",
    "lst1,lst2,lst3=[1, 2, 3, \"a\", \"b\", 4],[\"A\", 0, \"Edabit\", 1729, \"Python\", \"1729\"],[\"Nothing\", \"here\"]\n",
    "out1,out2,out3=filter_list(lst1),filter_list(lst2),filter_list(lst3)\n",
    "print(\"\\nfilter_list({}) ➞ {}\".format(lst1,out1),\"\\nfilter_list({}) ➞ {}\".format(lst2,out2),\n",
    "     \"\\nfilter_list({}) ➞ {}\".format(lst3,out3),sep=\"\\n\")\n"
   ]
  },
  {
   "cell_type": "markdown",
   "metadata": {},
   "source": [
    "## Question2 Given a list of numbers, create a function which returns the list but with each element&#39;s index in the list added to itself. This means you add 0 to the number at index 0, add 1 to the number at index 1, etc...\n",
    "\n",
    "Examples\n",
    "\n",
    "add_indexes([0, 0, 0, 0, 0]) ➞ [0, 1, 2, 3, 4]\n",
    "\n",
    "add_indexes([1, 2, 3, 4, 5]) ➞ [1, 3, 5, 7, 9]\n",
    "\n",
    "add_indexes([5, 4, 3, 2, 1]) ➞ [5, 5, 5, 5, 5]"
   ]
  },
  {
   "cell_type": "code",
   "execution_count": 26,
   "metadata": {},
   "outputs": [
    {
     "name": "stdout",
     "output_type": "stream",
     "text": [
      "\n",
      "add_indexes([0, 0, 0, 0, 0]) ➞ [0, 1, 2, 3, 4]\n",
      "\n",
      "add_indexes([1, 2, 3, 4, 5]) ➞ [1, 3, 5, 7, 9]\n",
      "\n",
      "add_indexes([5, 4, 3, 2, 1]) ➞ [5, 5, 5, 5, 5]\n"
     ]
    }
   ],
   "source": [
    "def add_indexes(lst):\n",
    "    return [i+lst[i] for i in range(len(lst))]\n",
    "lst1,lst2,lst3=[0, 0, 0, 0, 0],[1, 2, 3, 4, 5],[5, 4, 3, 2, 1]\n",
    "out1,out2,out3=add_indexes(lst1),add_indexes(lst2),add_indexes(lst3)\n",
    "print(\"\\nadd_indexes({}) ➞ {}\".format(lst1,out1),\"\\nadd_indexes({}) ➞ {}\".format(lst2,out2),\n",
    "     \"\\nadd_indexes({}) ➞ {}\".format(lst3,out3),sep=\"\\n\")\n"
   ]
  },
  {
   "cell_type": "markdown",
   "metadata": {},
   "source": [
    "## Question3 Create a function that takes the height and radius of a cone as arguments and returns the volume of the cone rounded to the nearest hundredth. See the resources tab for the formula.\n",
    "\n",
    "Examples\n",
    "\n",
    "cone_volume(3, 2) ➞ 12.57\n",
    "\n",
    "cone_volume(15, 6) ➞ 565.49\n",
    "\n",
    "cone_volume(18, 0) ➞ 0"
   ]
  },
  {
   "cell_type": "code",
   "execution_count": 7,
   "metadata": {},
   "outputs": [
    {
     "name": "stdout",
     "output_type": "stream",
     "text": [
      "Enter height of a cone: 3,15,18\n",
      "Enter radius of a cone: 2,6,0\n",
      "\n",
      "cone_volume(3, 2) ➞ 12.57\n",
      "\n",
      "cone_volume(15, 6) ➞ 565.49\n",
      "\n",
      "cone_volume(18, 0) ➞ 0.0\n"
     ]
    }
   ],
   "source": [
    "## V=πr**2*(h/3)\n",
    "import math\n",
    "def cone_volume(h,r):\n",
    "    vol=round(math.pi*int(r)**2*(int(h)/3),2)\n",
    "    return vol\n",
    "h1,h2,h3=input(\"Enter height of a cone: \").split(\",\")\n",
    "r1,r2,r3=input(\"Enter radius of a cone: \").split(\",\")\n",
    "v1,v2,v3=cone_volume(h1,r1),cone_volume(h2,r2),cone_volume(h3,r3)\n",
    "print(\"\\ncone_volume({}, {}) ➞ {}\".format(h1,r1,v1),\"\\ncone_volume({}, {}) ➞ {}\".format(h2,r2,v2),\n",
    "     \"\\ncone_volume({}, {}) ➞ {}\".format(h3,r3,v3),sep=\"\\n\")"
   ]
  },
  {
   "cell_type": "markdown",
   "metadata": {},
   "source": [
    "## Question4 This Triangular Number Sequence is generated from a pattern of dots that form a triangle.The first 5 numbers of the sequence, or dots, are:1, 3, 6, 10, 15\n",
    "## This means that the first triangle has just one dot, the second one has three dots, the third onehas 6 dots and so on.\n",
    "## Write a function that gives the number of dots with its corresponding triangle number of the sequence.\n",
    "\n",
    "Examples\n",
    "\n",
    "triangle(1) ➞ 1\n",
    "\n",
    "triangle(6) ➞ 21\n",
    "\n",
    "triangle(215) ➞ 23220"
   ]
  },
  {
   "cell_type": "code",
   "execution_count": 20,
   "metadata": {},
   "outputs": [
    {
     "name": "stdout",
     "output_type": "stream",
     "text": [
      "Enter triangle number: 215\n",
      "triangle(215) ➞ 23220\n"
     ]
    }
   ],
   "source": [
    "def triangle(n):\n",
    "    num=0\n",
    "    for i in range(1, n + 1):\n",
    "        num =i*(i+1)//2\n",
    "    return num\n",
    "n=int(input(\"Enter triangle number: \"))\n",
    "dots=triangle(n)\n",
    "print(\"triangle({}) ➞ {}\".format(n,dots))\n",
    "            "
   ]
  },
  {
   "cell_type": "markdown",
   "metadata": {},
   "source": [
    "## Question5 Create a function that takes a list of numbers between 1 and 10 (excluding one number) and returns the missing number.\n",
    "\n",
    "Examples\n",
    "\n",
    "missing_num([1, 2, 3, 4, 6, 7, 8, 9, 10]) ➞ 5\n",
    "\n",
    "missing_num([7, 2, 3, 6, 5, 9, 1, 4, 8]) ➞ 10\n",
    "\n",
    "missing_num([10, 5, 1, 2, 4, 6, 8, 3, 9]) ➞ 7"
   ]
  },
  {
   "cell_type": "code",
   "execution_count": 21,
   "metadata": {},
   "outputs": [
    {
     "name": "stdout",
     "output_type": "stream",
     "text": [
      "\n",
      "missing_num([1, 2, 3, 4, 6, 7, 8, 9, 10]) ➞ 5\n",
      "\n",
      "missing_num([7, 2, 3, 6, 5, 9, 1, 4, 8]) ➞ 10\n",
      "\n",
      "missing_num([10, 5, 1, 2, 4, 6, 8, 3, 9]) ➞ 7\n"
     ]
    }
   ],
   "source": [
    "def missing_num(lst):\n",
    "    my_lst=[i for i in range(1,11)]\n",
    "    if len(my_lst)!=len(lst):\n",
    "        for i in my_lst:\n",
    "            if i not in lst:\n",
    "                return i\n",
    "    else:\n",
    "        print(\"No missing number\")\n",
    "lst1,lst2,lst3=[1, 2, 3, 4, 6, 7, 8, 9, 10],[7, 2, 3, 6, 5, 9, 1, 4, 8],[10, 5, 1, 2, 4, 6, 8, 3, 9]\n",
    "out1,out2,out3=missing_num(lst1),missing_num(lst2),missing_num(lst3)\n",
    "print(\"\\nmissing_num({}) ➞ {}\".format(lst1,out1),\"\\nmissing_num({}) ➞ {}\".format(lst2,out2),\n",
    "     \"\\nmissing_num({}) ➞ {}\".format(lst3,out3),sep=\"\\n\")"
   ]
  }
 ],
 "metadata": {
  "kernelspec": {
   "display_name": "Python 3",
   "language": "python",
   "name": "python3"
  },
  "language_info": {
   "codemirror_mode": {
    "name": "ipython",
    "version": 3
   },
   "file_extension": ".py",
   "mimetype": "text/x-python",
   "name": "python",
   "nbconvert_exporter": "python",
   "pygments_lexer": "ipython3",
   "version": "3.7.1"
  }
 },
 "nbformat": 4,
 "nbformat_minor": 2
}
