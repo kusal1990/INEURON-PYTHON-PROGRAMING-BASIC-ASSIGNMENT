{
 "cells": [
  {
   "cell_type": "markdown",
   "metadata": {},
   "source": [
    "## Question 1 Create a function that takes a list of non-negative integers and strings and return a new listwithout the strings.\n",
    "\n",
    "Examples\n",
    "\n",
    "filter_list([1, 2, &quot;a&quot;, &quot;b&quot;]) ➞ [1, 2]\n",
    "\n",
    "filter_list([1, &quot;a&quot;, &quot;b&quot;, 0, 15]) ➞ [1, 0, 15]\n",
    "\n",
    "filter_list([1, 2, &quot;aasf&quot;, &quot;1&quot;, &quot;123&quot;, 123]) ➞ [1, 2, 123]"
   ]
  },
  {
   "cell_type": "code",
   "execution_count": 91,
   "metadata": {},
   "outputs": [
    {
     "name": "stdout",
     "output_type": "stream",
     "text": [
      "\n",
      "filter_list([1, 2, 'a', 'b']) ➞ [1, 2]\n",
      "\n",
      "filter_list([1, 'a', 'b', 0, 15]) ➞ [1, 0, 15]\n",
      "\n",
      "filter_list([1, 2, 'aasf', '1', '123', 123]) ➞ [1, 2, 123]\n"
     ]
    }
   ],
   "source": [
    "def filter_list(lst):\n",
    "    new_lst=[]\n",
    "    for i in lst:\n",
    "        if type(i)==int:\n",
    "            new_lst.append(i)\n",
    "    return new_lst\n",
    "\n",
    "lst1,lst2,lst3=[1, 2, \"a\", \"b\"],[1, \"a\", \"b\", 0, 15],[1, 2, \"aasf\", \"1\", \"123\", 123]\n",
    "out1,out2,out3=filter_list(lst1),filter_list(lst2),filter_list(lst3)\n",
    "print(\"\\nfilter_list({}) ➞ {}\".format(lst1,out1),\"\\nfilter_list({}) ➞ {}\".format(lst2,out2),\n",
    "      \"\\nfilter_list({}) ➞ {}\".format(lst3,out3),sep=\"\\n\")"
   ]
  },
  {
   "cell_type": "markdown",
   "metadata": {},
   "source": [
    "## Question 2 The &quot;Reverser&quot; takes a string as input and returns that string in reverse order, with the opposite case.\n",
    "\n",
    "Examples\n",
    "\n",
    "reverse(&quot;Hello World&quot;) ➞ &quot;DLROw OLLEh&quot;\n",
    "\n",
    "reverse(&quot;ReVeRsE&quot;) ➞ &quot;eSrEvEr&quot;\n",
    "\n",
    "reverse(&quot;Radar&quot;) ➞ &quot;RADAr&quot;"
   ]
  },
  {
   "cell_type": "code",
   "execution_count": 92,
   "metadata": {},
   "outputs": [
    {
     "name": "stdout",
     "output_type": "stream",
     "text": [
      "Enter coma separate strings: Hello World,ReVeRsE,Radar\n",
      "\n",
      "reverse(Hello World) ➞ DLROw OLLEh\n",
      "\n",
      "reverse(ReVeRsE) ➞ eSrEvEr\n",
      "\n",
      "reverse(Radar) ➞ eSrEvEr\n"
     ]
    }
   ],
   "source": [
    "def Reverser(string):\n",
    "   \n",
    "    if len(string)>0:\n",
    "        new_str=string.swapcase()      \n",
    "    return new_str[::-1]\n",
    "s1,s2,s3=input(\"Enter coma separate strings: \").split(\",\")\n",
    "out1,out2,out3=Reverser(s1),Reverser(s2),Reverser(s2)\n",
    "print(\"\\nreverse({}) ➞ {}\".format(s1,out1),\"\\nreverse({}) ➞ {}\".format(s2,out2),\n",
    "      \"\\nreverse({}) ➞ {}\".format(s3,out3),sep=\"\\n\")"
   ]
  },
  {
   "cell_type": "markdown",
   "metadata": {},
   "source": [
    "## Question 3\n",
    "You can assign variables from lists like this:\n",
    "    \n",
    "lst = [1, 2, 3, 4, 5, 6]\n",
    "\n",
    "first = lst[0]\n",
    "\n",
    "middle = lst[1:-1]\n",
    "\n",
    "last = lst[-1]\n",
    "\n",
    "print(first) ➞ outputs 1\n",
    "\n",
    "print(middle) ➞ outputs [2, 3, 4, 5]\n",
    "\n",
    "print(last) ➞ outputs 6\n",
    "\n",
    "With Python 3, you can assign variables from lists in a much more succinct way. Create\n",
    "variables first, middle and last from the given list using destructuring assignment\n",
    "(check the Resources tab for some examples), where:\n",
    "\n",
    "Your task is to unpack the list writeyourcodehere into three variables, being first,\n",
    "middle, and last, with middle being everything in between the first and last element. Then\n",
    "print all three variables.\n"
   ]
  },
  {
   "cell_type": "code",
   "execution_count": 50,
   "metadata": {},
   "outputs": [
    {
     "name": "stdout",
     "output_type": "stream",
     "text": [
      "outputs  1\n",
      "outputs  [2, 3, 4, 5]\n",
      "outputs  6\n"
     ]
    }
   ],
   "source": [
    "def assign_variable(lst):\n",
    "    first=lst[0]\n",
    "    middle=lst[1:-1]\n",
    "    last=lst[-1]\n",
    "    return first,middle,last\n",
    "lst=[1, 2, 3, 4, 5, 6]\n",
    "for i in assign_variable(lst):\n",
    "    print(\"outputs \",i)"
   ]
  },
  {
   "cell_type": "markdown",
   "metadata": {},
   "source": [
    "## Question 4 Write a function that calculates the factorial of a number recursively.\n",
    "\n",
    "Examples\n",
    "\n",
    "factorial(5) ➞ 120\n",
    "\n",
    "factorial(3) ➞ 6\n",
    "\n",
    "factorial(1) ➞ 1\n",
    "\n",
    "factorial(0) ➞ 1"
   ]
  },
  {
   "cell_type": "code",
   "execution_count": 93,
   "metadata": {},
   "outputs": [
    {
     "name": "stdout",
     "output_type": "stream",
     "text": [
      "Enter an integer: 5,3,1,0\n",
      "Factorial (5) ➞ 120 \n",
      "Factorial (3) ➞ 6 \n",
      "Factorial (1) ➞ 1 \n",
      "Factorial (0) ➞ 0 \n"
     ]
    }
   ],
   "source": [
    "def factorial(n):\n",
    "    \"\"\"\" Factorial of any integer\"\"\"\n",
    "    return n if int(n)== 1 or int(n)==0  else int(n)*factorial(int(n)-1)\n",
    "n=input(\"Enter an integer: \").split(\",\")\n",
    "for i in n:\n",
    "    print(\"Factorial ({}) ➞ {} \".format(i,factorial(i)))"
   ]
  },
  {
   "cell_type": "markdown",
   "metadata": {},
   "source": [
    "## Question 5 Write a function that moves all elements of one type to the end of the list.\n",
    "\n",
    "Examples\n",
    "\n",
    "move_to_end([1, 3, 2, 4, 4, 1], 1) ➞ [3, 2, 4, 4, 1, 1]\n",
    "\n",
    "Move all the 1s to the end of the array.\n",
    "\n",
    "move_to_end([7, 8, 9, 1, 2, 3, 4], 9) ➞ [7, 8, 1, 2, 3, 4, 9]\n",
    "\n",
    "move_to_end([&quot;a&quot;, &quot;a&quot;, &quot;a&quot;, &quot;b&quot;], &quot;a&quot;) ➞ [&quot;b&quot;, &quot;a&quot;, &quot;a&quot;, &quot;a&quot;]"
   ]
  },
  {
   "cell_type": "code",
   "execution_count": 95,
   "metadata": {},
   "outputs": [
    {
     "name": "stdout",
     "output_type": "stream",
     "text": [
      "move_to_end([1, 3, 2, 4, 4, 1], 1) ➞ [3, 2, 4, 4, 1, 1]\n"
     ]
    }
   ],
   "source": [
    "def move_to_end(lst,ele):\n",
    "    new_lst=[]\n",
    "    ele_lst=[]\n",
    "    if ele in lst:\n",
    "        for i in lst:\n",
    "            if i!=ele:\n",
    "                new_lst.append(i)\n",
    "            else:\n",
    "                ele_lst.append(ele)\n",
    "        new_lst.extend([ele for i in range(len(ele_lst))])\n",
    "    else:\n",
    "        pass\n",
    "    return new_lst\n",
    "        \n",
    "lst,ele=[1, 3, 2, 4, 4, 1], 1\n",
    "out=move_to_end(lst,ele)\n",
    "print(\"move_to_end({}, {}) ➞ {}\".format(lst,ele,out))"
   ]
  },
  {
   "cell_type": "code",
   "execution_count": null,
   "metadata": {},
   "outputs": [],
   "source": []
  }
 ],
 "metadata": {
  "kernelspec": {
   "display_name": "Python 3",
   "language": "python",
   "name": "python3"
  },
  "language_info": {
   "codemirror_mode": {
    "name": "ipython",
    "version": 3
   },
   "file_extension": ".py",
   "mimetype": "text/x-python",
   "name": "python",
   "nbconvert_exporter": "python",
   "pygments_lexer": "ipython3",
   "version": "3.7.1"
  }
 },
 "nbformat": 4,
 "nbformat_minor": 2
}
