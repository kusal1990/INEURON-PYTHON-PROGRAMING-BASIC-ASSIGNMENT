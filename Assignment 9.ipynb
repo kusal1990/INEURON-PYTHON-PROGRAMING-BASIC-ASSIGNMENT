{
 "cells": [
  {
   "cell_type": "markdown",
   "metadata": {},
   "source": [
    "## 1. Write a Python program to check if the given number is a Disarium Number?"
   ]
  },
  {
   "cell_type": "code",
   "execution_count": 3,
   "metadata": {
    "scrolled": true
   },
   "outputs": [
    {
     "name": "stdout",
     "output_type": "stream",
     "text": [
      "Enter a number: 175\n",
      "175 is a Disarium Number\n"
     ]
    }
   ],
   "source": [
    "## A number is called Disarium if sum of its digits powered with their respective positions is equal to the number itself.\n",
    "def is_disarium(num):\n",
    "    \"\"\" check if the given number is a Disarium Number\"\"\"  \n",
    "    sum = 0;    \n",
    "    lenth = len(str(num))\n",
    "    temp = num;    \n",
    "     \n",
    "    #Calculates the sum of digits powered with their respective position    \n",
    "    while(temp != 0):    \n",
    "        rem = temp%10;    \n",
    "        sum += int(rem**lenth);    \n",
    "        temp = temp//10;    \n",
    "        lenth -= 1;    \n",
    "     \n",
    "    #Checks whether the sum is equal to the number itself    \n",
    "    if(sum == num):    \n",
    "        print(\"{} is a Disarium Number\".format(num));    \n",
    "    else:    \n",
    "        print(\"{} is a not Disarium Number\".format(num));  \n",
    "        \n",
    "num = int(input(\"Enter a number: \"))\n",
    "is_disarium(num)"
   ]
  },
  {
   "cell_type": "markdown",
   "metadata": {},
   "source": [
    "## 2. Write a Python program to print all disarium numbers between 1 to 100?"
   ]
  },
  {
   "cell_type": "code",
   "execution_count": 16,
   "metadata": {},
   "outputs": [
    {
     "name": "stdout",
     "output_type": "stream",
     "text": [
      "Enter a limit: 100\n",
      "All disarium numbers between 1 to 100 are\n",
      "0\n",
      "1\n",
      "2\n",
      "3\n",
      "4\n",
      "5\n",
      "6\n",
      "7\n",
      "8\n",
      "9\n",
      "89\n"
     ]
    }
   ],
   "source": [
    "def disarium(limit):\n",
    "    \"\"\"print all disarium numbers between 1 to 100\"\"\"\n",
    "    for num in range(limit+1):\n",
    "    \n",
    "        sum = 0;    \n",
    "        lenth = len(str(num))\n",
    "     \n",
    "    #Makes a copy of the original number num    \n",
    "        temp = num;    \n",
    "     \n",
    "    #Calculates the sum of digits powered with their respective position    \n",
    "        while(temp != 0):    \n",
    "            rem = temp%10;    \n",
    "            sum += int(rem**lenth);    \n",
    "            temp = temp//10;    \n",
    "            lenth -= 1;    \n",
    "     \n",
    "    #Checks whether the sum is equal to the number itself    \n",
    "        if(sum == num):    \n",
    "            print(num)\n",
    "limit=int(input(\"Enter a limit: \"))\n",
    "print(\"All disarium numbers between 1 to 100 are\")\n",
    "disarium(limit)"
   ]
  },
  {
   "cell_type": "markdown",
   "metadata": {},
   "source": [
    "## 3. Write a Python program to check if the given number is Happy Number?"
   ]
  },
  {
   "cell_type": "code",
   "execution_count": 14,
   "metadata": {},
   "outputs": [
    {
     "name": "stdout",
     "output_type": "stream",
     "text": [
      "Enter a number: 49\n",
      " Is a Happy Number\n"
     ]
    }
   ],
   "source": [
    "#A happy number is a number which eventually reaches 1 when replaced by the sum of the square of each digit.\n",
    "\n",
    "def sumofdigit(num):\n",
    "    \"\"\" return sum of the square of digits of a number\"\"\"\n",
    "    sum=0\n",
    "    while(num!=0):\n",
    "        r=num%10\n",
    "        sum+=r**2\n",
    "        num=num//10\n",
    "    return sum\n",
    "\n",
    "def is_happy(num):\n",
    "    \"\"\"check if the given number is Happy Number or not\"\"\"\n",
    "    while(num>9 and num!=1):\n",
    "        num= sumofdigit(num)\n",
    "    if num==1:\n",
    "        print(\" Is a Happy Number\")\n",
    "    else:\n",
    "        print(\" Is not a Happy Number\")\n",
    "num=int(input(\"Enter a number: \"))\n",
    "is_happy(num)"
   ]
  },
  {
   "cell_type": "markdown",
   "metadata": {},
   "source": [
    "## 4. Write a Python program to print all happy numbers between 1 and 100?"
   ]
  },
  {
   "cell_type": "code",
   "execution_count": 15,
   "metadata": {},
   "outputs": [
    {
     "name": "stdout",
     "output_type": "stream",
     "text": [
      "Enter a limit: 100\n",
      "All happy numbers between 1 and 100 are: \n",
      "1\n",
      "7\n",
      "10\n",
      "13\n",
      "19\n",
      "23\n",
      "28\n",
      "31\n",
      "32\n",
      "44\n",
      "49\n",
      "68\n",
      "70\n",
      "79\n",
      "82\n",
      "86\n",
      "91\n",
      "94\n",
      "97\n",
      "100\n"
     ]
    }
   ],
   "source": [
    "def happy(limit):\n",
    "    \"\"\" print all happy numbers between 1 and 100\"\"\"\n",
    "    for i in range(0,limit+1):\n",
    "        num=sumofdigit(i)\n",
    "        while(num>9 and num!=1):\n",
    "            num= sumofdigit(num)\n",
    "        if num==1:\n",
    "            print(i)\n",
    "    \n",
    "limit=int(input(\"Enter a limit: \"))\n",
    "print(\"All happy numbers between 1 and 100 are: \")\n",
    "happy(limit)"
   ]
  },
  {
   "cell_type": "markdown",
   "metadata": {},
   "source": [
    "## 5. Write a Python program to determine whether the given number is a Harshad Number?"
   ]
  },
  {
   "cell_type": "code",
   "execution_count": 1,
   "metadata": {},
   "outputs": [
    {
     "name": "stdout",
     "output_type": "stream",
     "text": [
      "Enter a number: 21\n",
      "21 is a Harshad number\n"
     ]
    }
   ],
   "source": [
    "## A harshad number (or Niven number) in a given number base is an integer that is divisible by the sum of its digits when written in that base.\n",
    "def sum_digit(num):\n",
    "    \"\"\" return sum of digit of a number\"\"\"\n",
    "    sum=0\n",
    "    while(num!=0):\n",
    "        r=num%10\n",
    "        sum+=r\n",
    "        num=num//10\n",
    "    return sum\n",
    "sum_digit(85)\n",
    "\n",
    "def is_harshad(num):\n",
    "    \"\"\"check whether the given number is a Harshad Number or not\"\"\"\n",
    "    temp=sum_digit(num)\n",
    "    \n",
    "    if num%temp==0:\n",
    "        print(\"{} is a Harshad number\".format(num))\n",
    "    else:\n",
    "        print(\"{} is not a Harshad number\".format(num))\n",
    "num=int(input(\"Enter a number: \"))\n",
    "is_harshad(num)"
   ]
  },
  {
   "cell_type": "markdown",
   "metadata": {},
   "source": [
    "## 6. Write a Python program to print all pronic numbers between 1 and 100?"
   ]
  },
  {
   "cell_type": "code",
   "execution_count": 12,
   "metadata": {},
   "outputs": [
    {
     "name": "stdout",
     "output_type": "stream",
     "text": [
      "Enter no of terms: 100\n",
      "All pronic numbers between 1 and 100 are: \n",
      "0 2 6 12 20 30 42 56 72 90 "
     ]
    }
   ],
   "source": [
    "def pronic(nterms):\n",
    "    \"\"\"\" pronic sequence of n number\"\"\"\n",
    "    for i in range(0,nterms+1):\n",
    "        temp=0\n",
    "        for j in range(0,i+1):\n",
    "            if j*(j+1)==i:\n",
    "                temp=1\n",
    "                break\n",
    "        if temp == 1:\n",
    "            print(i,end=\" \")\n",
    "    \n",
    "\n",
    "nterms=int(input(\"Enter no of terms: \"))\n",
    "print(\"All pronic numbers between 1 and 100 are: \")\n",
    "pronic(nterms)\n",
    "    "
   ]
  },
  {
   "cell_type": "code",
   "execution_count": null,
   "metadata": {},
   "outputs": [],
   "source": []
  }
 ],
 "metadata": {
  "kernelspec": {
   "display_name": "Python 3",
   "language": "python",
   "name": "python3"
  },
  "language_info": {
   "codemirror_mode": {
    "name": "ipython",
    "version": 3
   },
   "file_extension": ".py",
   "mimetype": "text/x-python",
   "name": "python",
   "nbconvert_exporter": "python",
   "pygments_lexer": "ipython3",
   "version": "3.7.1"
  }
 },
 "nbformat": 4,
 "nbformat_minor": 2
}
