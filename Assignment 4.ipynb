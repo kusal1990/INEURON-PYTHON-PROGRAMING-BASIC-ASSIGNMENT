{
 "cells": [
  {
   "cell_type": "markdown",
   "metadata": {},
   "source": [
    "## 1. Write a Python Program to Find the Factorial of a Number?"
   ]
  },
  {
   "cell_type": "code",
   "execution_count": 12,
   "metadata": {},
   "outputs": [
    {
     "name": "stdout",
     "output_type": "stream",
     "text": [
      "Enter a number:10\n",
      "Factorial of 10 is 3628800\n"
     ]
    }
   ],
   "source": [
    "a=int(input(\"Enter a number:\"))\n",
    "b=1\n",
    "for i in range(1,a+1):\n",
    "    b*=i\n",
    "print(\"Factorial of {} is\".format(a),b)"
   ]
  },
  {
   "cell_type": "markdown",
   "metadata": {},
   "source": [
    "## 2. Write a Python Program to Display the multiplication Table?"
   ]
  },
  {
   "cell_type": "code",
   "execution_count": 1,
   "metadata": {},
   "outputs": [
    {
     "name": "stdout",
     "output_type": "stream",
     "text": [
      "Enter a number:17\n",
      "17\n",
      "34\n",
      "51\n",
      "68\n",
      "85\n",
      "102\n",
      "119\n",
      "136\n",
      "153\n",
      "170\n"
     ]
    }
   ],
   "source": [
    "num=int(input(\"Enter a number:\"))\n",
    "for i in range(1,11):\n",
    "    print(i*num)"
   ]
  },
  {
   "cell_type": "markdown",
   "metadata": {},
   "source": [
    "## 3. Write a Python Program to Print the Fibonacci sequence?"
   ]
  },
  {
   "cell_type": "code",
   "execution_count": 16,
   "metadata": {},
   "outputs": [
    {
     "name": "stdout",
     "output_type": "stream",
     "text": [
      "Enter the number of element in Fibonacci Series : 11\n",
      "0 1 1 2 3 5 8 13 21 34 55 "
     ]
    }
   ],
   "source": [
    "## A sequence, called the Fibonacci sequence, such that each number is the sum of the two preceding ones, starting from 0 and 1\n",
    "n = int(input('Enter the number of element in Fibonacci Series : '))\n",
    "\n",
    "#initialize a and b.\n",
    "a = 0\n",
    "b = 1\n",
    "\n",
    "if n == 1:\n",
    "    print(a)\n",
    "else:\n",
    "    print(a, end = ' ')\n",
    "    print(b, end = ' ')\n",
    "\n",
    "#Loop for producing the Fibonacci Series\n",
    "for i in range(2, n):\n",
    "  c = a+b\n",
    "  a = b\n",
    "  b = c\n",
    "  print(c , end=' ')"
   ]
  },
  {
   "cell_type": "markdown",
   "metadata": {},
   "source": [
    "## 4. Write a Python Program to Check Armstrong Number?"
   ]
  },
  {
   "cell_type": "code",
   "execution_count": 3,
   "metadata": {},
   "outputs": [
    {
     "name": "stdout",
     "output_type": "stream",
     "text": [
      "Enter a number: 153\n",
      "153 is an Armstrong number\n"
     ]
    }
   ],
   "source": [
    "## An Armstrong number of three digits is an integer such that the sum of the cubes of its digits is equal to the number itself. \n",
    "##For example, 371 is an Armstrong number since 3**3 + 7**3 + 1**3 = 371.\n",
    "\n",
    "def is_armstrong(num):\n",
    "    \"\"\" Check if the number is Armstrong Number or not\"\"\"\n",
    "    \n",
    "    sum = 0  \n",
    "    temp = num  \n",
    "  \n",
    "    while temp > 0:  \n",
    "        digit = temp % 10  \n",
    "        sum += digit ** 3  \n",
    "        temp //= 10  \n",
    "  \n",
    "    if num == sum:  \n",
    "         print(\"{} is an Armstrong number\".format(num))  \n",
    "    else:  \n",
    "         print(\"{} is not an Armstrong number\".format(num)) \n",
    "\n",
    "num = int(input(\"Enter a number: \")) \n",
    "is_armstrong(num)"
   ]
  },
  {
   "cell_type": "markdown",
   "metadata": {},
   "source": [
    "## 5. Write a Python Program to Find Armstrong Number in an Interval?\n"
   ]
  },
  {
   "cell_type": "code",
   "execution_count": 2,
   "metadata": {},
   "outputs": [
    {
     "name": "stdout",
     "output_type": "stream",
     "text": [
      "Enter lower limit: 100\n",
      "Enter uper limit: 1000\n",
      "Armstrong Numbers between 100 and 1000 are: \n",
      "125\n",
      "153\n",
      "216\n",
      "370\n",
      "371\n",
      "407\n",
      "729\n"
     ]
    }
   ],
   "source": [
    "def armstrong_num(upper_limit):\n",
    "    \"\"\" Find Armstrong Number in an Interval\"\"\"\n",
    "    for num in range(lower_limit,upper_limit+1):\n",
    "        sum = 0  \n",
    "        temp = num  \n",
    "        while temp > 0:  \n",
    "            digit = temp % 10  \n",
    "            sum += digit ** 3  \n",
    "            temp //= 10  \n",
    "            if num == sum:  \n",
    "                print(num) \n",
    "lower_limit=int(input(\"Enter lower limit: \"))\n",
    "upper_limit=int(input(\"Enter uper limit: \"))\n",
    "print(\"Armstrong Numbers between {} and {} are: \".format(lower_limit,upper_limit))\n",
    "armstrong_num(upper_limit)\n"
   ]
  },
  {
   "cell_type": "markdown",
   "metadata": {},
   "source": [
    "## 6. Write a Python Program to Find the Sum of Natural Numbers?"
   ]
  },
  {
   "cell_type": "code",
   "execution_count": 38,
   "metadata": {},
   "outputs": [
    {
     "name": "stdout",
     "output_type": "stream",
     "text": [
      "Enter a number:100\n",
      "The sum of first 100 Natural Numbers is:  5050\n"
     ]
    }
   ],
   "source": [
    "num=int(input(\"Enter a number:\"))\n",
    "a=0\n",
    "for i in range(1,num+1):\n",
    "    a+=i\n",
    "\n",
    "print(\"The sum of first {} Natural Numbers is: \".format(num),a)"
   ]
  },
  {
   "cell_type": "code",
   "execution_count": null,
   "metadata": {},
   "outputs": [],
   "source": []
  }
 ],
 "metadata": {
  "kernelspec": {
   "display_name": "Python 3",
   "language": "python",
   "name": "python3"
  }
 },
 "nbformat": 4,
 "nbformat_minor": 2
}
