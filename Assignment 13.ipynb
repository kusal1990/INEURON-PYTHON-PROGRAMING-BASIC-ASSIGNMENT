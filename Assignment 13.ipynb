{
 "cells": [
  {
   "cell_type": "markdown",
   "metadata": {},
   "source": [
    "## 1: Write a program that calculates and prints the value according to the given formula: Q = Square root of [(2 * C * D)/H] Following are the fixed values of C and H: C is 50. H is 30. D is the variable whose values should be input to your program in a comma-separated sequence. Example Let us assume the following comma separated input sequence is given to the program: 100,150,180 The output of the program should be: 18,22,24"
   ]
  },
  {
   "cell_type": "code",
   "execution_count": 34,
   "metadata": {},
   "outputs": [
    {
     "name": "stdout",
     "output_type": "stream",
     "text": [
      "D: 100,200,300\n",
      "Q:  [18, 26, 32]\n"
     ]
    }
   ],
   "source": [
    "# Q = Square root of [(2 * C * D)/H] \n",
    "#C,H=50,30\n",
    "import math\n",
    "D=input(\"D: \")\n",
    "D=D.split(',')\n",
    "output=[]\n",
    "for i in D:\n",
    "    Q = round(math.sqrt(2 * 50 * int(i) / 30))\n",
    "    output.append(Q)\n",
    "    \n",
    "print(\"Q: \",output)"
   ]
  },
  {
   "cell_type": "markdown",
   "metadata": {},
   "source": [
    "## 2. Write a program which takes 2 digits, X,Y as input and generates a 2-dimensional array. The element value in the i-th row and j-th column of the array should be i*j. Note: i=0,1.., X-1; j=0,1,¡Y-1. Example Suppose the following inputs are given to the program: 3,5 Then, the output of the program should be: [[0, 0, 0, 0, 0], [0, 1, 2, 3, 4], [0, 2, 4, 6, 8]]"
   ]
  },
  {
   "cell_type": "code",
   "execution_count": 40,
   "metadata": {},
   "outputs": [
    {
     "name": "stdout",
     "output_type": "stream",
     "text": [
      "3\n",
      "5\n",
      "[[0, 0, 0, 0, 0], [0, 1, 2, 3, 4], [0, 2, 4, 6, 8]]\n"
     ]
    }
   ],
   "source": [
    "X=int(input())\n",
    "Y=int(input())\n",
    "result=[[0 for i in range(Y)] for j in range(X)]\n",
    "for i in range(X):\n",
    "    for j in range(Y):\n",
    "        result[i][j]=i*j\n",
    "print(result)"
   ]
  },
  {
   "cell_type": "markdown",
   "metadata": {},
   "source": [
    "## 3.  Write a program that accepts a comma separated sequence of words as input and prints the words in a comma-separated sequence after sorting them alphabetically. Suppose the following input is supplied to the program: without,hello,bag,world Then, the output should be: bag,hello,without,world"
   ]
  },
  {
   "cell_type": "code",
   "execution_count": 49,
   "metadata": {},
   "outputs": [
    {
     "name": "stdout",
     "output_type": "stream",
     "text": [
      "without,hello,bag,world\n"
     ]
    },
    {
     "data": {
      "text/plain": [
       "['bag', 'hello', 'without', 'world']"
      ]
     },
     "execution_count": 49,
     "metadata": {},
     "output_type": "execute_result"
    }
   ],
   "source": [
    "words=input()\n",
    "words=words.split(\",\")\n",
    "words_new=sorted(words)\n",
    "words_new"
   ]
  },
  {
   "cell_type": "markdown",
   "metadata": {},
   "source": [
    "##  4. Write a program that accepts a sequence of whitespace separated words as input and prints the words after removing all duplicate words and sorting them alphanumerically. Suppose the following input is supplied to the program: hello world and practice makes perfect and hello world again Then, the output should be: again and hello makes perfect practice world"
   ]
  },
  {
   "cell_type": "code",
   "execution_count": 15,
   "metadata": {},
   "outputs": [
    {
     "name": "stdout",
     "output_type": "stream",
     "text": [
      "Enter a sequence of whitespace separated words:\n",
      " hello world and practice makes perfect and hello world again\n",
      "\n",
      "Output after removing all duplicate words and sorting them alphanumerically: \n",
      " again and hello makes perfect practice world\n"
     ]
    }
   ],
   "source": [
    "string=input(\"Enter a sequence of whitespace separated words:\\n \")\n",
    "string=string.split()\n",
    "new_str=[]\n",
    "for i in string:\n",
    "    if i not in new_str:\n",
    "        new_str.append(i)\n",
    "        \n",
    "output=' '.join(sorted(new_str))\n",
    "print(\"\\nOutput after removing all duplicate words and sorting them alphanumerically: \\n\",output)\n",
    "        \n",
    "        "
   ]
  },
  {
   "cell_type": "markdown",
   "metadata": {},
   "source": [
    "## 5. Write a program that accepts a sentence and calculate the number of letters and digits. Suppose the following input is supplied to the program: hello world! 123 Then, the output should be: LETTERS 10 and DIGITS 3"
   ]
  },
  {
   "cell_type": "code",
   "execution_count": 95,
   "metadata": {},
   "outputs": [
    {
     "name": "stdout",
     "output_type": "stream",
     "text": [
      "hello world! 123\n",
      "['h', 'e', 'l', 'l', 'o', ' ', 'w', 'o', 'r', 'l', 'd', '!', ' ', '1', '2', '3']\n",
      "LETTERS 10\n",
      "DIGITS 3\n"
     ]
    }
   ],
   "source": [
    "user_input=input()\n",
    "user_input=list(user_input)\n",
    "print(user_input)\n",
    "\n",
    "myIntList = [i for i in user_input if i.isalpha()]\n",
    "myStrList = [i for i in user_input if i.isnumeric()]\n",
    "LETTERS=len(myIntList)\n",
    "DIGITS=len(myStrList)\n",
    "\n",
    "print(\"LETTERS\",LETTERS)\n",
    "print(\"DIGITS\",DIGITS)"
   ]
  },
  {
   "cell_type": "markdown",
   "metadata": {},
   "source": [
    "## 6. A website requires the users to input username and password to register. Write a program to check the validity of password input by users. Following are the criteria for checking the password:\n",
    "1. At least 1 letter between [a-z]\n",
    "2. At least 1 number between [0-9]\n",
    "1. At least 1 letter between [A-Z]\n",
    "3. At least 1 character from [$#@]\n",
    "4. Minimum length of transaction password: 6\n",
    "5. Maximum length of transaction password: 12\n",
    "Your program should accept a sequence of comma separated passwords and will check them\n",
    "according to the above criteria. Passwords that match the criteria are to be printed, each\n",
    "separated by a comma.\n",
    "Example\n",
    "If the following passwords are given as input to the program:\n",
    "ABd1234@1,a F1#,2w3E*,2We3345\n",
    "Then, the output of the program should be:\n",
    "ABd1234@1"
   ]
  },
  {
   "cell_type": "code",
   "execution_count": 9,
   "metadata": {},
   "outputs": [
    {
     "name": "stdout",
     "output_type": "stream",
     "text": [
      "Enter a sequence of comma separated passwords : ABd1234@1,a F1#,2w3E*,2We3345,Kus@l123\n",
      "ABd1234@1 is Valid Password\n",
      "Kus@l123 is Valid Password\n"
     ]
    }
   ],
   "source": [
    "import re\n",
    "\n",
    "def check_valid_password(password):\n",
    "    \"\"\"check the validity of password input by users,it will print the password which are only match the criteria.\n",
    "       Following are the criteria----\n",
    "       1. At least 1 letter between [a-z]\n",
    "       2. At least 1 number between [0-9]\n",
    "       3. At least 1 letter between [A-Z]\n",
    "       4. At least 1 character from [$#@]\n",
    "       5. Minimum length of transaction password: 6\n",
    "       6. Maximum length of transaction password: 12\"\"\"\n",
    "    \n",
    "    password=password.split(',')\n",
    "    for i in password:\n",
    "        x = True\n",
    "        while x:  \n",
    "            if (len(i)<6 or len(i)>12):\n",
    "                break\n",
    "            elif not re.search(\"[a-z]\",i):\n",
    "                break\n",
    "            elif not re.search(\"[0-9]\",i):\n",
    "                break\n",
    "            elif not re.search(\"[A-Z]\",i):\n",
    "                break\n",
    "            elif not re.search(\"[$#@]\",i):\n",
    "                break \n",
    "            else:\n",
    "                print(\"{} is Valid Password\".format(i))\n",
    "                x=False\n",
    "                break\n",
    "user_input=input(\"Enter a sequence of comma separated passwords : \")\n",
    "check_valid_password(user_input)"
   ]
  },
  {
   "cell_type": "code",
   "execution_count": null,
   "metadata": {},
   "outputs": [],
   "source": []
  }
 ],
 "metadata": {
  "kernelspec": {
   "display_name": "Python 3",
   "language": "python",
   "name": "python3"
  },
  "language_info": {
   "codemirror_mode": {
    "name": "ipython",
    "version": 3
   },
   "file_extension": ".py",
   "mimetype": "text/x-python",
   "name": "python",
   "nbconvert_exporter": "python",
   "pygments_lexer": "ipython3",
   "version": "3.7.1"
  }
 },
 "nbformat": 4,
 "nbformat_minor": 2
}
