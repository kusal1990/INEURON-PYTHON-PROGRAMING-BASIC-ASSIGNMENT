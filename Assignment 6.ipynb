{
 "cells": [
  {
   "cell_type": "markdown",
   "metadata": {},
   "source": [
    "## 1. Write a Python Program to Display Fibonacci Sequence Using Recursion?"
   ]
  },
  {
   "cell_type": "code",
   "execution_count": 9,
   "metadata": {},
   "outputs": [
    {
     "name": "stdout",
     "output_type": "stream",
     "text": [
      "Enter no of terms10\n",
      "Fibonacci Sequence of 10 number is: \n",
      "0\n",
      "1\n",
      "1\n",
      "2\n",
      "3\n",
      "5\n",
      "8\n",
      "13\n",
      "21\n",
      "34\n",
      "55\n"
     ]
    }
   ],
   "source": [
    "## A sequence, called the Fibonacci sequence, such that each number is the sum of the two preceding ones, starting from 0 and 1\n",
    "def Fibonacci(n):\n",
    "    \"\"\"\" Fibonacci sequence of n number\"\"\"\n",
    "    return n if n<=1 else Fibonacci(n-1)+Fibonacci(n-2)\n",
    "\n",
    "nterms=int(input(\"Enter no of terms\"))\n",
    "\n",
    "print(\"Fibonacci Sequence of {} number is: \".format(nterms))\n",
    "for i in range(nterms+1):\n",
    "    print(Fibonacci(i))"
   ]
  },
  {
   "cell_type": "markdown",
   "metadata": {},
   "source": [
    "## 2. Write a Python Program to Find Factorial of Number Using Recursion?"
   ]
  },
  {
   "cell_type": "code",
   "execution_count": 1,
   "metadata": {},
   "outputs": [
    {
     "name": "stdout",
     "output_type": "stream",
     "text": [
      "Enter an integer: 5\n",
      "Factorial of 5 is:  120\n"
     ]
    }
   ],
   "source": [
    "def factorial(n):\n",
    "    \"\"\"\" Factorial of any integer\"\"\"\n",
    "    return 1 if n== 1 else n*factorial(n-1)\n",
    "n=int(input(\"Enter an integer: \"))\n",
    "print(\"Factorial of {} is: \".format(n),factorial(n))"
   ]
  },
  {
   "cell_type": "markdown",
   "metadata": {},
   "source": [
    "## 3. Write a Python Program to calculate your Body Mass Index?"
   ]
  },
  {
   "cell_type": "code",
   "execution_count": 12,
   "metadata": {},
   "outputs": [
    {
     "name": "stdout",
     "output_type": "stream",
     "text": [
      "Enter a weight in kg: 67\n",
      "Enter a height in meter: 1.65\n",
      "Body Mass Index of a person with weight 67.0 kg and height 1.65 m is:  24.609733700642796\n"
     ]
    }
   ],
   "source": [
    "def bmi(w,h):\n",
    "    \"\"\"\" Calculate Body Mass Index\"\"\"\n",
    "    return w/h**2\n",
    "\n",
    "w= float(input(\"Enter a weight in kg: \"))\n",
    "h= float(input(\"Enter a height in meter: \"))\n",
    "\n",
    "print(\"Body Mass Index of a person with weight {} kg and height {} m is: \".format(w,h),bmi(w,h))"
   ]
  },
  {
   "cell_type": "markdown",
   "metadata": {},
   "source": [
    "## 4. Write a Python Program to calculate the natural logarithm of any number?"
   ]
  },
  {
   "cell_type": "code",
   "execution_count": 15,
   "metadata": {},
   "outputs": [
    {
     "name": "stdout",
     "output_type": "stream",
     "text": [
      "Enter a number: 10\n",
      "Natural logarithm of 10.0 is :  2.302585092994046\n"
     ]
    }
   ],
   "source": [
    "import math\n",
    "num=float(input(\"Enter a number: \"))\n",
    "print (\"Natural logarithm of {} is : \".format(num),end=\" \")\n",
    "print (math.log(num))\n"
   ]
  },
  {
   "cell_type": "markdown",
   "metadata": {},
   "source": [
    "## 5. Write a Python Program for cube sum of first n natural numbers?"
   ]
  },
  {
   "cell_type": "code",
   "execution_count": 2,
   "metadata": {},
   "outputs": [
    {
     "name": "stdout",
     "output_type": "stream",
     "text": [
      "Enter an integer: 10\n",
      "Cube sum of first 10 natural numbers is:  3025\n"
     ]
    }
   ],
   "source": [
    "def cube_sum(n):\n",
    "    \n",
    "    \"\"\"\" Return cube sum of first n natural numbers\"\"\"\n",
    "    sum=0\n",
    "    for i in range(1,n+1):\n",
    "        sum+=i*i*i\n",
    "    return sum\n",
    "\n",
    "n=int(input(\"Enter an integer: \"))\n",
    "print(\"Cube sum of first {} natural numbers is: \".format(n),cube_sum(n))\n"
   ]
  },
  {
   "cell_type": "code",
   "execution_count": null,
   "metadata": {},
   "outputs": [],
   "source": []
  }
 ],
 "metadata": {
  "kernelspec": {
   "display_name": "Python 3",
   "language": "python",
   "name": "python3"
  },
  "language_info": {
   "codemirror_mode": {
    "name": "ipython",
    "version": 3
   },
   "file_extension": ".py",
   "mimetype": "text/x-python",
   "name": "python",
   "nbconvert_exporter": "python",
   "pygments_lexer": "ipython3",
   "version": "3.7.1"
  }
 },
 "nbformat": 4,
 "nbformat_minor": 2
}
