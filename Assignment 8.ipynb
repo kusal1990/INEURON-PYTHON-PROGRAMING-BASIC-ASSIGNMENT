{
 "cells": [
  {
   "cell_type": "markdown",
   "metadata": {},
   "source": [
    "## 1. Write a Python Program to Add Two Matrices?"
   ]
  },
  {
   "cell_type": "code",
   "execution_count": 21,
   "metadata": {},
   "outputs": [
    {
     "name": "stdout",
     "output_type": "stream",
     "text": [
      "[[11, 13, 15], [17, 19, 21], [23, 25, 27]]\n"
     ]
    }
   ],
   "source": [
    "a=[\n",
    "  [1,2,3],\n",
    "  [4,5,6],\n",
    "  [7,8,9]]\n",
    "b=[\n",
    "  [10,11,12],\n",
    "  [13,14,15],\n",
    "  [16,17,18]]\n",
    "\n",
    "c = [\n",
    "     [0,0,0],  \n",
    "     [0,0,0],  \n",
    "     [0,0,0]]  \n",
    "# iterate through rows  \n",
    "for i in range(len(a)):  \n",
    "   # iterate through columns  \n",
    "   for j in range(len(a[0])):  \n",
    "        c[i][j] = a[i][j] + b[i][j]  \n",
    "        \n",
    "print(c)  "
   ]
  },
  {
   "cell_type": "markdown",
   "metadata": {},
   "source": [
    "## 2. Write a Python Program to Multiply Two Matrices?"
   ]
  },
  {
   "cell_type": "code",
   "execution_count": 2,
   "metadata": {},
   "outputs": [
    {
     "name": "stdout",
     "output_type": "stream",
     "text": [
      "[[84, 90, 96], [201, 216, 231], [318, 342, 366]]\n"
     ]
    }
   ],
   "source": [
    "a=[\n",
    "  [1,2,3],\n",
    "  [4,5,6],\n",
    "  [7,8,9]]\n",
    "b=[\n",
    "  [10,11,12],\n",
    "  [13,14,15],\n",
    "  [16,17,18]]\n",
    "\n",
    "c = [\n",
    "     [0,0,0],  \n",
    "     [0,0,0],  \n",
    "     [0,0,0]] \n",
    "# iterate through rows of a\n",
    "for i in range(len(a)):  \n",
    "   # iterate through columns of b  \n",
    "   for j in range(len(b[0])):\n",
    "        # iterate through rows of b\n",
    "        for k in range(len(b)):\n",
    "        \n",
    "            c[i][j] += a[i][k]*b[k][j]\n",
    "print(c)"
   ]
  },
  {
   "cell_type": "markdown",
   "metadata": {},
   "source": [
    "## 3. Write a Python Program to Transpose a Matrix?"
   ]
  },
  {
   "cell_type": "code",
   "execution_count": 3,
   "metadata": {},
   "outputs": [
    {
     "name": "stdout",
     "output_type": "stream",
     "text": [
      "[[1, 4, 7], [2, 5, 8], [3, 6, 9]]\n"
     ]
    }
   ],
   "source": [
    "transpose=[]\n",
    "a=[\n",
    "  [1,2,3],\n",
    "  [4,5,6],\n",
    "  [7,8,9]]\n",
    "\n",
    "for i in range(len(a)):\n",
    "    lst=[]\n",
    "    for j in a:\n",
    "        lst.append(j[i])\n",
    "    transpose.append(lst)\n",
    "print(transpose)\n",
    "    \n",
    "\n"
   ]
  },
  {
   "cell_type": "markdown",
   "metadata": {},
   "source": [
    "## 4. Write a Python Program to Sort Words in Alphabetic Order?"
   ]
  },
  {
   "cell_type": "code",
   "execution_count": 23,
   "metadata": {},
   "outputs": [
    {
     "name": "stdout",
     "output_type": "stream",
     "text": [
      "Enter a string: my name is kusal\n",
      "\n",
      " The sorted words are:\n",
      "is\n",
      "kusal\n",
      "my\n",
      "name\n"
     ]
    }
   ],
   "source": [
    "def sort_a_words(string):\n",
    "    \"\"\"\" sorting a words in Alphabetic Order\"\"\"\n",
    "    word_list=string.split()\n",
    "    word_list.sort()\n",
    "    for word in word_list:\n",
    "        print(word)\n",
    "\n",
    "string=input(\"Enter a string: \")\n",
    "\n",
    "print(\"\\n The sorted words are:\")\n",
    "\n",
    "sort_a_words(string)\n",
    "    \n",
    "    \n",
    "    "
   ]
  },
  {
   "cell_type": "markdown",
   "metadata": {},
   "source": [
    "## 5. Write a Python Program to Remove Punctuation From a String?"
   ]
  },
  {
   "cell_type": "code",
   "execution_count": 31,
   "metadata": {},
   "outputs": [
    {
     "name": "stdout",
     "output_type": "stream",
     "text": [
      "Enter a string: .,my $$name */is @@##kusal\n",
      " my name is kusal\n"
     ]
    }
   ],
   "source": [
    "punctuation = '''''!()-[]{};:'\"\\,<>./?@#$%^&*_~''' \n",
    "\n",
    "str=input(\"Enter a string: \")\n",
    "no_punc=\" \"\n",
    "for i in str:\n",
    "    if i not in punctuation:\n",
    "        no_punc=no_punc + i\n",
    "        \n",
    "\n",
    "\n",
    "print(no_punc)\n",
    "\n",
    "    "
   ]
  },
  {
   "cell_type": "code",
   "execution_count": null,
   "metadata": {},
   "outputs": [],
   "source": []
  }
 ],
 "metadata": {
  "kernelspec": {
   "display_name": "Python 3",
   "language": "python",
   "name": "python3"
  },
  "language_info": {
   "codemirror_mode": {
    "name": "ipython",
    "version": 3
   },
   "file_extension": ".py",
   "mimetype": "text/x-python",
   "name": "python",
   "nbconvert_exporter": "python",
   "pygments_lexer": "ipython3",
   "version": "3.7.1"
  }
 },
 "nbformat": 4,
 "nbformat_minor": 2
}
