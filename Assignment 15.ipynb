{
 "cells": [
  {
   "cell_type": "markdown",
   "metadata": {},
   "source": [
    "### Question 1: \n",
    "### Please write a program using generator to print the numbers which can be divisible by 5 and 7 between 0 and n in comma separated form while n is input by console. Example: If the following n is given as input to the program: 100 Then, the output of the program should be: 0,35,70"
   ]
  },
  {
   "cell_type": "code",
   "execution_count": 18,
   "metadata": {},
   "outputs": [
    {
     "name": "stdout",
     "output_type": "stream",
     "text": [
      "Enter range: 100\n",
      "output:  0,35,70\n"
     ]
    }
   ],
   "source": [
    "def divby5and7(n):\n",
    "    \"\"\" generator which can iterate the numbers, which are divisible by 5 and 7  between a given range 0 and n.\"\"\"\n",
    "    output=[]\n",
    "    for i in range(n):\n",
    "        if i % 5 == 0 and i % 7==0:\n",
    "            output.append(i)\n",
    "    output=\",\".join([str(i) for i in output])\n",
    "    return output\n",
    "n = int(input(\"Enter range: \"))\n",
    "output=divby5and7(n)\n",
    "print(\"output: \",output)"
   ]
  },
  {
   "cell_type": "markdown",
   "metadata": {},
   "source": [
    "### Question 2: \n",
    "### Please write a program using generator to print the even numbers between 0 and n in comma separated form while n is input by console. Example: If the following n is given as input to the program: 10 Then, the output of the program should be: 0,2,4,6,8,10"
   ]
  },
  {
   "cell_type": "code",
   "execution_count": 20,
   "metadata": {},
   "outputs": [
    {
     "name": "stdout",
     "output_type": "stream",
     "text": [
      "Enter range: 10\n",
      "output:  0,2,4,6,8,10\n"
     ]
    }
   ],
   "source": [
    "def divby5and7(n):\n",
    "    \"\"\" generator which can iterate the numbers, which are divisible by 2 between a given range 0 and n.\"\"\"\n",
    "    output=[]\n",
    "    for i in range(0,n+1):\n",
    "        if i % 2 == 0:\n",
    "            output.append(i)\n",
    "    output=\",\".join([str(i) for i in output])\n",
    "    return output\n",
    "n = int(input(\"Enter range: \"))\n",
    "output=divby5and7(n)\n",
    "print(\"output: \",output)"
   ]
  },
  {
   "cell_type": "markdown",
   "metadata": {},
   "source": [
    "### Question 3:\n",
    "### The Fibonacci Sequence is computed based on the following formula: f(n)=0 if n=0 f(n)=1 if n=1 f(n)=f(n-1)+f(n-2) if n>1 Please write a program using list comprehension to print the Fibonacci Sequence in comma separated form with a given n input by console. Example: If the following n is given as input to the program: 7\n",
    "\n",
    "#### Then, the output of the program should be: 0,1,1,2,3,5,8,13"
   ]
  },
  {
   "cell_type": "code",
   "execution_count": 41,
   "metadata": {},
   "outputs": [
    {
     "name": "stdout",
     "output_type": "stream",
     "text": [
      "Enter no of terms: 7\n",
      "Fibonacci Sequence of 7 number is:  0,1,1,2,3,5,8,13\n"
     ]
    }
   ],
   "source": [
    "def Fibonacci(n):\n",
    "    \"\"\"\" Fibonacci sequence of n number\"\"\"\n",
    "    return n if n<=1 else Fibonacci(n-1)+Fibonacci(n-2)\n",
    "\n",
    "n=int(input(\"Enter no of terms: \"))\n",
    "output=\",\".join([str(Fibonacci(i)) for i in range(n+1)])\n",
    "print(\"Fibonacci Sequence of {} number is: \".format(n),output)\n"
   ]
  },
  {
   "cell_type": "markdown",
   "metadata": {},
   "source": [
    "### Question 4: \n",
    "### Assuming that we have some email addresses in the \"username@companyname.com\" format, please write program to print the user name of a given email address. Both user names and company names are composed of letters only. Example: If the following email address is given as input to the program: john@google.com Then, the output of the program should be: john"
   ]
  },
  {
   "cell_type": "code",
   "execution_count": 51,
   "metadata": {},
   "outputs": [
    {
     "name": "stdout",
     "output_type": "stream",
     "text": [
      "Enter email id:  john@google.com\n",
      "The user name of a given email address is :   john\n"
     ]
    }
   ],
   "source": [
    "def username(s):\n",
    "    if '@' in s: \n",
    "        username, domain = s.split('@')\n",
    "        return username\n",
    "s=input(\"Enter email id: \")\n",
    "out=username(s)\n",
    "print(\"The user name of a given email address is : \",out)"
   ]
  },
  {
   "cell_type": "markdown",
   "metadata": {},
   "source": [
    "### Question 5: \n",
    "### Define a class named Shape and its subclass Square. The Square class has an init function which takes a length as argument. Both classes have a area function which can print the area of the shape where Shape's area is 0 by default."
   ]
  },
  {
   "cell_type": "code",
   "execution_count": 23,
   "metadata": {},
   "outputs": [
    {
     "name": "stdout",
     "output_type": "stream",
     "text": [
      "The area of a square with a side length of 4 is: 16\n"
     ]
    }
   ],
   "source": [
    "class Shape:\n",
    "    area = 0\n",
    "    def __init__(self,area):\n",
    "        self.area=area\n",
    "\n",
    "\n",
    "\n",
    "class Square(Shape):\n",
    "\n",
    "    def __init__(self, length):\n",
    "        self.length = length\n",
    "\n",
    "    def area(self):\n",
    "        \n",
    "        if self.length>0:\n",
    "            area = (self.length * self.length)\n",
    "            print('The area of a square with a side length of {} is: {}'.format(self.length, area))\n",
    "\n",
    "\n",
    "s = Square(4)\n",
    "s.area()"
   ]
  },
  {
   "cell_type": "code",
   "execution_count": null,
   "metadata": {},
   "outputs": [],
   "source": []
  }
 ],
 "metadata": {
  "kernelspec": {
   "display_name": "Python 3",
   "language": "python",
   "name": "python3"
  },
  "language_info": {
   "codemirror_mode": {
    "name": "ipython",
    "version": 3
   },
   "file_extension": ".py",
   "mimetype": "text/x-python",
   "name": "python",
   "nbconvert_exporter": "python",
   "pygments_lexer": "ipython3",
   "version": "3.7.1"
  }
 },
 "nbformat": 4,
 "nbformat_minor": 2
}
