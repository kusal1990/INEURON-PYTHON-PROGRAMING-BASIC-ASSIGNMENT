{
 "cells": [
  {
   "cell_type": "markdown",
   "metadata": {},
   "source": [
    "## 1. Write a Python program to find words which are greater than given length k?"
   ]
  },
  {
   "cell_type": "code",
   "execution_count": 1,
   "metadata": {},
   "outputs": [
    {
     "name": "stdout",
     "output_type": "stream",
     "text": [
      "Enter a length: 4\n"
     ]
    },
    {
     "data": {
      "text/plain": [
       "['words', 'which', 'greater', 'given', 'length']"
      ]
     },
     "execution_count": 1,
     "metadata": {},
     "output_type": "execute_result"
    }
   ],
   "source": [
    "def string_k(k,str):\n",
    "    \"\"\"find words which are greater than given length k\"\"\"\n",
    "    string=[]\n",
    "    text=str.split()\n",
    "    for i in text:\n",
    "        if len(i)>k:\n",
    "            string.append(i)\n",
    "    return string\n",
    "\n",
    "str= \"find words which are greater than given length k\"\n",
    "k=int(input(\"Enter a length: \"))\n",
    "\n",
    "string_k(k,str)"
   ]
  },
  {
   "cell_type": "markdown",
   "metadata": {},
   "source": [
    "## 2. Write a Python program for removing i-th character from a string?"
   ]
  },
  {
   "cell_type": "code",
   "execution_count": 2,
   "metadata": {},
   "outputs": [
    {
     "ename": "TypeError",
     "evalue": "'str' object doesn't support item deletion",
     "output_type": "error",
     "traceback": [
      "\u001b[1;31m---------------------------------------------------------------------------\u001b[0m",
      "\u001b[1;31mTypeError\u001b[0m                                 Traceback (most recent call last)",
      "\u001b[1;32m<ipython-input-2-f81ae2b7b82e>\u001b[0m in \u001b[0;36m<module>\u001b[1;34m\u001b[0m\n\u001b[0;32m      1\u001b[0m \u001b[0mmy_string\u001b[0m\u001b[1;33m=\u001b[0m\u001b[1;34m\"A Python program for removing i-th character from a string\"\u001b[0m\u001b[1;33m\u001b[0m\u001b[1;33m\u001b[0m\u001b[0m\n\u001b[1;32m----> 2\u001b[1;33m \u001b[1;32mdel\u001b[0m \u001b[0mmy_string\u001b[0m\u001b[1;33m[\u001b[0m\u001b[1;36m2\u001b[0m\u001b[1;33m]\u001b[0m\u001b[1;33m\u001b[0m\u001b[1;33m\u001b[0m\u001b[0m\n\u001b[0m\u001b[0;32m      3\u001b[0m \u001b[0mprint\u001b[0m\u001b[1;33m(\u001b[0m\u001b[0mmy_string\u001b[0m\u001b[1;33m)\u001b[0m\u001b[1;33m\u001b[0m\u001b[1;33m\u001b[0m\u001b[0m\n",
      "\u001b[1;31mTypeError\u001b[0m: 'str' object doesn't support item deletion"
     ]
    }
   ],
   "source": [
    "my_string=\"A Python program for removing i-th character from a string\"\n",
    "del my_string[2]\n",
    "print(my_string)\n",
    "\n",
    "## string is immutable data type,so it does not support addition or deletion of any element"
   ]
  },
  {
   "cell_type": "markdown",
   "metadata": {},
   "source": [
    "## 3.Write a Python program to split and join a string?"
   ]
  },
  {
   "cell_type": "code",
   "execution_count": 5,
   "metadata": {},
   "outputs": [
    {
     "name": "stdout",
     "output_type": "stream",
     "text": [
      "['Write', 'a', 'Python', 'program', 'to', 'split', 'and', 'join', 'a', 'string']\n"
     ]
    },
    {
     "data": {
      "text/plain": [
       "'Write_a_Python_program_to_split_and_join_a_string'"
      ]
     },
     "execution_count": 5,
     "metadata": {},
     "output_type": "execute_result"
    }
   ],
   "source": [
    "my_string1=\"Write a Python program to split and join a string\"\n",
    "print(my_string1.split())\n",
    "\n",
    "\"_\".join(['Write', 'a', 'Python', 'program', 'to', 'split', 'and', 'join', 'a', 'string'])"
   ]
  },
  {
   "cell_type": "markdown",
   "metadata": {},
   "source": [
    "## 4. Write a Python to check if a given string is binary string or not?"
   ]
  },
  {
   "cell_type": "code",
   "execution_count": 24,
   "metadata": {},
   "outputs": [
    {
     "name": "stdout",
     "output_type": "stream",
     "text": [
      "Enter a string : 11100110010\n",
      "Entered string is a binary string\n"
     ]
    }
   ],
   "source": [
    "def check_binary(str):\n",
    "    binary_str = '10'\n",
    "\n",
    "    for i in str:\n",
    "        if i not in binary_str:\n",
    "            return False\n",
    "\n",
    "    return True\n",
    "\n",
    "\n",
    "str = input('Enter a string : ')\n",
    "\n",
    "if check_binary(str):\n",
    "    print('Entered string is a binary string')\n",
    "else:\n",
    "    print('Entered string is not a binary string')"
   ]
  },
  {
   "cell_type": "markdown",
   "metadata": {},
   "source": [
    "## 5. Write a Python program to find uncommon words from two Strings?"
   ]
  },
  {
   "cell_type": "code",
   "execution_count": 39,
   "metadata": {},
   "outputs": [
    {
     "name": "stdout",
     "output_type": "stream",
     "text": [
      "Uncommon words are : {'not'}\n"
     ]
    }
   ],
   "source": [
    "str1='Entered string is a binary string'\n",
    "str2='Entered string is not a binary string'\n",
    "a=str1.split()\n",
    "b=str2.split()\n",
    "k = set(a).symmetric_difference(set(b))\n",
    "print(\"Uncommon words are :\",k)"
   ]
  },
  {
   "cell_type": "markdown",
   "metadata": {},
   "source": [
    "## 6. Write a Python to find all duplicate characters in string?"
   ]
  },
  {
   "cell_type": "code",
   "execution_count": 1,
   "metadata": {},
   "outputs": [
    {
     "name": "stdout",
     "output_type": "stream",
     "text": [
      "h\n",
      "d\n",
      "c\n",
      "w\n",
      "c\n",
      "w\n",
      "w\n",
      "c\n",
      "d\n",
      "h\n",
      "d\n"
     ]
    }
   ],
   "source": [
    "str3=\"hvdqcwckwnwlicgtdhbd\"\n",
    "lst=list(str3)\n",
    "for i in lst:\n",
    "    if lst.count(i)>1:\n",
    "        print(i)"
   ]
  },
  {
   "cell_type": "markdown",
   "metadata": {},
   "source": [
    "## 7. Write a Python Program to check if a string contains any special character?"
   ]
  },
  {
   "cell_type": "code",
   "execution_count": 3,
   "metadata": {},
   "outputs": [
    {
     "name": "stdout",
     "output_type": "stream",
     "text": [
      "Enter the string : hvjcdjcdj,.#$%()hvgdcsd123@#%^\n",
      "The string contains special character\n"
     ]
    }
   ],
   "source": [
    "import re\n",
    "\n",
    "myStr =  input('Enter the string : ')\n",
    "\n",
    "# Checking if a string contains any special character  \n",
    "special_char = re.compile('[@_!#$%^&*()<>?/\\|}{~:]')\n",
    "\n",
    "\n",
    "if(special_char.search(myStr) == None):\n",
    "    print(\"The string does not contain special character\")\n",
    "else:\n",
    "    print(\"The string contains special character\")"
   ]
  }
 ],
 "metadata": {
  "kernelspec": {
   "display_name": "Python 3",
   "language": "python",
   "name": "python3"
  },
  "language_info": {
   "codemirror_mode": {
    "name": "ipython",
    "version": 3
   },
   "file_extension": ".py",
   "mimetype": "text/x-python",
   "name": "python",
   "nbconvert_exporter": "python",
   "pygments_lexer": "ipython3",
   "version": "3.7.1"
  }
 },
 "nbformat": 4,
 "nbformat_minor": 2
}
