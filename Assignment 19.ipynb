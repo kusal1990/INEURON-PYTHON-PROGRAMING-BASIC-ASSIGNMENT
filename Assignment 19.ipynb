{
 "cells": [
  {
   "cell_type": "markdown",
   "metadata": {},
   "source": [
    "## Question1 Create a function that takes a string and returns a string in which each character is repeated once.\n",
    "\n",
    "Examples\n",
    "\n",
    "double_char(&quot;String&quot;) ➞ &quot;SSttrriinngg&quot;\n",
    "\n",
    "double_char(&quot;Hello World!&quot;) ➞ &quot;HHeelllloo WWoorrlldd!!&quot;\n",
    "\n",
    "double_char(&quot;1234!_ &quot;) ➞ &quot;11223344!!__ &quot;"
   ]
  },
  {
   "cell_type": "code",
   "execution_count": 4,
   "metadata": {},
   "outputs": [
    {
     "name": "stdout",
     "output_type": "stream",
     "text": [
      "Enter a string: String,Hello World!,1234!_ \n",
      "double_char(String) ➞ SSttrriinngg\n",
      "double_char(Hello World!) ➞ HHeelllloo  WWoorrlldd!!\n",
      "double_char(1234!_ ) ➞ 11223344!!__  \n"
     ]
    }
   ],
   "source": [
    "def double_char(string):\n",
    "    new_string=\"\"\n",
    "    for i in range(len(string)):\n",
    "        new_string +=string[i]+string[i]\n",
    "    return new_string\n",
    "s1,s2,s3=input(\"Enter a string: \").split(\",\")\n",
    "out1,out2,out3=double_char(s1),double_char(s2),double_char(s3)\n",
    "print(\"double_char({}) ➞ {}\".format(s1,out1),\"double_char({}) ➞ {}\".format(s2,out2),\"double_char({}) ➞ {}\".format(s3,out3),sep=\"\\n\")\n"
   ]
  },
  {
   "cell_type": "markdown",
   "metadata": {},
   "source": [
    "## Question2 Create a function that reverses a boolean value and returns the string &quot;boolean expected&quot; if another variable type is given.\n",
    "\n",
    "Examples\n",
    "\n",
    "reverse(True) ➞ False\n",
    "\n",
    "reverse(False) ➞ True\n",
    "\n",
    "reverse(0) ➞ &quot;boolean expected&quot;\n",
    "\n",
    "reverse(None) ➞ &quot;boolean expected&quot;"
   ]
  },
  {
   "cell_type": "code",
   "execution_count": 26,
   "metadata": {},
   "outputs": [
    {
     "name": "stdout",
     "output_type": "stream",
     "text": [
      "False\n",
      "boolean expected\n",
      "boolean expected\n",
      "boolean expected\n",
      "True\n"
     ]
    }
   ],
   "source": [
    "def reverse(boolean):\n",
    "    if boolean==True:\n",
    "        return False\n",
    "    elif boolean==False:\n",
    "        return True\n",
    "    else:\n",
    "        return \"boolean expected\"\n",
    "b1,b2,b3,b4,b5=True,\"0\",\"1\",\"h\",False\n",
    "out1,out2,out3,out4,out5=reverse(b1),reverse(b2),reverse(b3),reverse(b4),reverse(b5)\n",
    "\n",
    "print(out1,out2,out3,out4,out5,sep=\"\\n\")"
   ]
  },
  {
   "cell_type": "markdown",
   "metadata": {},
   "source": [
    "## Question3 Create a function that returns the thickness (in meters) of a piece of paper after folding it n number of times. The paper starts off with a thickness of 0.5mm.\n",
    "\n",
    "Examples\n",
    "\n",
    "num_layers(1) ➞ &quot;0.001m&quot;\n",
    "\n",
    " Paper folded once is 1mm (equal to 0.001m)\n",
    " \n",
    "num_layers(4) ➞ &quot;0.008m&quot;\n",
    "\n",
    " Paper folded 4 times is 8mm (equal to 0.008m)\n",
    " \n",
    "num_layers(21) ➞ &quot;1048.576m&quot;\n",
    "\n",
    " Paper folded 21 times is 1048576mm (equal to 1048.576m)"
   ]
  },
  {
   "cell_type": "code",
   "execution_count": 45,
   "metadata": {},
   "outputs": [
    {
     "name": "stdout",
     "output_type": "stream",
     "text": [
      "Number of times folding: 21\n",
      "num_layers(21) ➞ 1048.576m\n"
     ]
    }
   ],
   "source": [
    "def thickness(n):\n",
    "    paper=0.5* 0.001\n",
    "    return paper if n==0 else paper*(2**n)\n",
    "n=int(input(\"Number of times folding: \"))\n",
    "out=thickness(n)\n",
    "print(\"num_layers({}) ➞ {}m\".format(n,out))"
   ]
  },
  {
   "cell_type": "markdown",
   "metadata": {},
   "source": [
    "## Question4 Create a function that takes a single string as argument and returns an ordered list containing the indices of all capital letters in the string.\n",
    "\n",
    "Examples\n",
    "\n",
    "index_of_caps(&quot;eDaBiT&quot;) ➞ [1, 3, 5]\n",
    "\n",
    "index_of_caps(&quot;eQuINoX&quot;) ➞ [1, 3, 4, 6]\n",
    "\n",
    "index_of_caps(&quot;determine&quot;) ➞ []\n",
    "\n",
    "index_of_caps(&quot;STRIKE&quot;) ➞ [0, 1, 2, 3, 4, 5]\n",
    "\n",
    "index_of_caps(&quot;sUn&quot;) ➞ [1]"
   ]
  },
  {
   "cell_type": "code",
   "execution_count": 68,
   "metadata": {},
   "outputs": [
    {
     "name": "stdout",
     "output_type": "stream",
     "text": [
      "Enter a string: eDaBiT,eQuINoX,determine,STRIKE,sUn\n",
      "index_of_caps(eDaBiT) ➞ [1, 3, 5]\n",
      "index_of_caps(eQuINoX) ➞ [1, 3, 4, 6]\n",
      "index_of_caps(determine) ➞ []\n",
      "index_of_caps(STRIKE) ➞ [0, 1, 2, 3, 4, 5]\n",
      "index_of_caps(sUn) ➞ [1]\n"
     ]
    }
   ],
   "source": [
    "def index_of_caps(string):\n",
    "    ordered_list=[]\n",
    "    for i in range(len(string)):\n",
    "        if string[i].isupper():\n",
    "            ordered_list.append(i)\n",
    "    return ordered_list\n",
    "s1,s2,s3,s4,s5=input(\"Enter a string: \").split(\",\")\n",
    "out1,out2,out3,out4,out5=index_of_caps(s1),index_of_caps(s2),index_of_caps(s3),index_of_caps(s4),index_of_caps(s5)\n",
    "print(\"index_of_caps({}) ➞ {}\".format(s1,out1),\"index_of_caps({}) ➞ {}\".format(s2,out2),\n",
    "     \"index_of_caps({}) ➞ {}\".format(s3,out3),\"index_of_caps({}) ➞ {}\".format(s4,out4),\n",
    "     \"index_of_caps({}) ➞ {}\".format(s5,out5),sep=\"\\n\")\n",
    "            \n",
    "    "
   ]
  },
  {
   "cell_type": "markdown",
   "metadata": {},
   "source": [
    "## Question5 Using list comprehensions, create a function that finds all even numbers from 1 to the given number.\n",
    "\n",
    "Examples\n",
    "\n",
    "find_even_nums(8) ➞ [2, 4, 6, 8]\n",
    "\n",
    "find_even_nums(4) ➞ [2, 4]\n",
    "\n",
    "find_even_nums(2) ➞ [2]"
   ]
  },
  {
   "cell_type": "code",
   "execution_count": 72,
   "metadata": {},
   "outputs": [
    {
     "name": "stdout",
     "output_type": "stream",
     "text": [
      "Enter a limit: 8\n",
      "find_even_nums(8) ➞ [2, 4, 6, 8]\n"
     ]
    }
   ],
   "source": [
    "def find_even_nums(n):\n",
    "    lst=[i for i in range(1,n+1) if i%2==0]\n",
    "    return lst\n",
    "n=int(input(\"Enter a limit: \"))\n",
    "out=find_even_nums(n)\n",
    "print(\"find_even_nums({}) ➞ {}\".format(n,out))"
   ]
  }
 ],
 "metadata": {
  "kernelspec": {
   "display_name": "Python 3",
   "language": "python",
   "name": "python3"
  },
  "language_info": {
   "codemirror_mode": {
    "name": "ipython",
    "version": 3
   },
   "file_extension": ".py",
   "mimetype": "text/x-python",
   "name": "python",
   "nbconvert_exporter": "python",
   "pygments_lexer": "ipython3",
   "version": "3.7.1"
  }
 },
 "nbformat": 4,
 "nbformat_minor": 2
}
