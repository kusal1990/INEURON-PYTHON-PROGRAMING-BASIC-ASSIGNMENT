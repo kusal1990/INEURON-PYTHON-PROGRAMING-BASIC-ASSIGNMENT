{
 "cells": [
  {
   "cell_type": "markdown",
   "metadata": {},
   "source": [
    "## 1. Write a Python Program to Find LCM?"
   ]
  },
  {
   "cell_type": "code",
   "execution_count": 1,
   "metadata": {},
   "outputs": [
    {
     "name": "stdout",
     "output_type": "stream",
     "text": [
      "Enter first number: 60\n",
      "Enter second number: 48\n",
      "LCM of number 60 and 48 is:  240\n"
     ]
    }
   ],
   "source": [
    "## Least Common Multiple(LCM) is a method to find the smallest common multiple between any two or more numbers.\n",
    "def LCM(num1,num2):\n",
    "    \"\"\" Find  the Least common multiple(LCM) between any two or more numbers\"\"\"\n",
    "    if num1 > num2:\n",
    "        max= num1\n",
    "    else:\n",
    "        max = num2\n",
    "\n",
    "    while(True):\n",
    "        if((max % num1 == 0) and (max % num2 == 0)):\n",
    "            print(\"LCM of number {} and {} is: \".format(num1,num2),max)\n",
    "            break\n",
    "        max += 1\n",
    "        \n",
    "num1=int(input(\"Enter first number: \"))\n",
    "num2=int(input(\"Enter second number: \"))\n",
    "LCM(num1,num2)"
   ]
  },
  {
   "cell_type": "markdown",
   "metadata": {},
   "source": [
    "## 2. Write a Python Program to Find HCF?"
   ]
  },
  {
   "cell_type": "code",
   "execution_count": 2,
   "metadata": {},
   "outputs": [
    {
     "name": "stdout",
     "output_type": "stream",
     "text": [
      "Enter first number: 60\n",
      "Enter second number: 48\n",
      "HCF of number 60 and 48 is:  12\n"
     ]
    }
   ],
   "source": [
    "## The greatest number which divides each of the two or more numbers is called HCF or Highest Common Factor(HCF).\n",
    "def HCF(num1,num2):\n",
    "    \"\"\" Find  the Highest Common Factor(HCF) between any two or more numbers\"\"\"\n",
    "    if num1 > num2:\n",
    "        min= num2\n",
    "    else:\n",
    "        min = num1\n",
    "\n",
    "    for i in range(1,min + 1):\n",
    "        if((num1 % i == 0) and (num2 % i == 0)):  \n",
    "            min=i\n",
    "    print(\"HCF of number {} and {} is: \".format(num1,num2),min)\n",
    "    \n",
    "        \n",
    "num1=int(input(\"Enter first number: \"))\n",
    "num2=int(input(\"Enter second number: \"))\n",
    "HCF(num1,num2)"
   ]
  },
  {
   "cell_type": "markdown",
   "metadata": {},
   "source": [
    "## 3. Write a Python Program to Convert Decimal to Binary, Octal and Hexadecimal?"
   ]
  },
  {
   "cell_type": "code",
   "execution_count": 11,
   "metadata": {},
   "outputs": [
    {
     "name": "stdout",
     "output_type": "stream",
     "text": [
      "Enter an Decimal numbers: 100\n",
      "\n",
      " Binary of Decimal 100 is:  1 1 0 0 1 0 0 \n",
      " Octal of Decimal 100 is:  144\n",
      " HexaDecimal of Decimal 100 is:  64"
     ]
    }
   ],
   "source": [
    "# decimal to hexadecimal\n",
    "\n",
    "def binary(n):\n",
    "    \"\"\" covert decimal number to binary numner\"\"\"\n",
    "    if n > 1:\n",
    "        binary(n//2)\n",
    "    print(n%2,end=\" \")\n",
    "    \n",
    "# decimal to octal\n",
    "\n",
    "def octa(n):\n",
    "    \"\"\" covert decimal number to octal numner\"\"\"\n",
    "    if(n > 0):\n",
    "        octa((int)(n/8))\n",
    "        print(n%8, end='')\n",
    "    \n",
    "# decimal to hexadecimal\n",
    " \n",
    "def Hexa(n):\n",
    "    \"\"\" covert decimal number to hexadecimal number\"\"\"\n",
    " \n",
    "    # char array to store\n",
    "    # hexadecimal number\n",
    "    hexaDeciNum = ['0'] * 100\n",
    " \n",
    "    # counter for hexadecimal\n",
    "    # number array\n",
    "    i = 0\n",
    "    while(n != 0):\n",
    " \n",
    "        # temporary variable\n",
    "        # to store remainder\n",
    "        temp = 0\n",
    " \n",
    "        # storing remainder\n",
    "        # in temp variable.\n",
    "        temp = n % 16\n",
    " \n",
    "        # check if temp < 10\n",
    "        if(temp < 10):\n",
    "            hexaDeciNum[i] = chr(temp + 48)\n",
    "            i = i + 1\n",
    "        else:\n",
    "            hexaDeciNum[i] = chr(temp + 55)\n",
    "            i = i + 1\n",
    "        n = int(n / 16)\n",
    " \n",
    "    # printing hexadecimal number\n",
    "    # array in reverse order\n",
    "    j = i - 1\n",
    "    while(j >= 0):\n",
    "        print((hexaDeciNum[j]), end=\"\")\n",
    "        j = j - 1\n",
    " \n",
    "   \n",
    "\n",
    "n= int(input(\"Enter an Decimal numbers: \"))\n",
    "\n",
    "print(\"\\n Binary of Decimal {} is: \".format(n),end=\" \")\n",
    "binary(n)\n",
    "\n",
    "print(\"\\n Octal of Decimal {} is: \".format(n),end=\" \")\n",
    "octa(n)\n",
    "\n",
    "print(\"\\n HexaDecimal of Decimal {} is: \".format(n),end=\" \")\n",
    "Hexa(n)\n",
    "    "
   ]
  },
  {
   "cell_type": "markdown",
   "metadata": {},
   "source": [
    "## 4. Write a Python Program To Find ASCII value of a character?"
   ]
  },
  {
   "cell_type": "code",
   "execution_count": 13,
   "metadata": {},
   "outputs": [
    {
     "name": "stdout",
     "output_type": "stream",
     "text": [
      "Enter a character: a\n",
      "The ASCII value of 'a' is 97\n"
     ]
    }
   ],
   "source": [
    "\"\"\"The full form of ASCII is the American Standard Code for information interchange. ... \n",
    "The ascii value represents the character variable in numbers, \n",
    "and each character variable is assigned with some number range from 0 to 127. \n",
    "For example, the ascii value of 'A' is 65.\"\"\"\n",
    "\n",
    "\n",
    "c = input(\"Enter a character: \")  \n",
    "print(\"The ASCII value of '\" + c + \"' is\",ord(c))  "
   ]
  },
  {
   "cell_type": "markdown",
   "metadata": {},
   "source": [
    "## 5. Write a Python Program to Make a Simple Calculator with 4 basic mathematical operations?"
   ]
  },
  {
   "cell_type": "code",
   "execution_count": 1,
   "metadata": {},
   "outputs": [
    {
     "name": "stdout",
     "output_type": "stream",
     "text": [
      "Enter a number to select: 1\n",
      "1.addition\n",
      "2.substruction\n",
      "3.multiplication\n",
      "4.division\n",
      "Enter a number: 10\n",
      "Enter a number: 5\n",
      "Addition of 10.0 and 5.0 is  15.0\n"
     ]
    }
   ],
   "source": [
    "def add(a,b):\n",
    "    \"\"\"\" This perform addition of two numbers\"\"\"\n",
    "    return a+b\n",
    "\n",
    "def sub(a,b):\n",
    "    \"\"\"\" This perform substruction of two numbers\"\"\"\n",
    "    return a-b\n",
    "\n",
    "def mult(a,b):\n",
    "    \"\"\"\" This perform multiplication of two numbers\"\"\"\n",
    "    return a*b\n",
    "\n",
    "def div(a,b):\n",
    "    \"\"\"\" This perform division of two numbers\"\"\"\n",
    "    return a/b\n",
    "\n",
    "select= int(input(\"Enter a number to select: \"))\n",
    "print(\"1.addition\")\n",
    "print(\"2.substruction\")\n",
    "print(\"3.multiplication\")\n",
    "print(\"4.division\")\n",
    "\n",
    "a=float(input(\"Enter a number: \"))\n",
    "b=float(input(\"Enter a number: \"))\n",
    "\n",
    "if select ==1:\n",
    "    print(\"Addition of {} and {} is \".format(a,b),add(a,b))\n",
    "elif select==2:\n",
    "    print(\"Substruction of {} and {} is \".format(a,b),sub(a,b))\n",
    "elif select==3:\n",
    "    print(\"Multiplication of {} and {} is \".format(a,b),mult(a,b))\n",
    "else:\n",
    "    print(\"Division of {} and {} is \".format(a,b),div(a,b))\n",
    "    "
   ]
  }
 ],
 "metadata": {
  "kernelspec": {
   "display_name": "Python 3",
   "language": "python",
   "name": "python3"
  },
  "language_info": {
   "codemirror_mode": {
    "name": "ipython",
    "version": 3
   },
   "file_extension": ".py",
   "mimetype": "text/x-python",
   "name": "python",
   "nbconvert_exporter": "python",
   "pygments_lexer": "ipython3",
   "version": "3.7.1"
  }
 },
 "nbformat": 4,
 "nbformat_minor": 2
}
